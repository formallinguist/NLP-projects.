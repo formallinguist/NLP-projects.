{
 "cells": [
  {
   "cell_type": "code",
   "execution_count": 15,
   "metadata": {},
   "outputs": [
    {
     "name": "stderr",
     "output_type": "stream",
     "text": [
      "[nltk_data] Downloading package brown to C:\\Users\\RAVI\n",
      "[nltk_data]     KIRAN\\AppData\\Roaming\\nltk_data...\n",
      "[nltk_data]   Package brown is already up-to-date!\n",
      "[nltk_data] Downloading package universal_tagset to C:\\Users\\RAVI\n",
      "[nltk_data]     KIRAN\\AppData\\Roaming\\nltk_data...\n",
      "[nltk_data]   Package universal_tagset is already up-to-date!\n"
     ]
    },
    {
     "data": {
      "text/plain": [
       "True"
      ]
     },
     "execution_count": 15,
     "metadata": {},
     "output_type": "execute_result"
    }
   ],
   "source": [
    "import nltk\n",
    "from nltk.corpus import brown\n",
    "from sklearn.metrics import confusion_matrix\n",
    "import matplotlib.pyplot as plt\n",
    "import numpy as np\n",
    "import itertools\n",
    "nltk.download('brown') #Here we downloaded brown corpus \n",
    "nltk.download('universal_tagset') # Here have downloaded the Universal tagset."
   ]
  },
  {
   "cell_type": "code",
   "execution_count": 16,
   "metadata": {},
   "outputs": [],
   "source": [
    "def plot_confusion_matrix(cm,\n",
    "                          labels,\n",
    "                          cmap=plt.cm.BuPu):\n",
    "    \"\"\"\n",
    "    This function plots the confusion matrix.\n",
    "    \"\"\"\n",
    "    plt.imshow(cm, interpolation='nearest', cmap=cmap)\n",
    "    x_tick_marks = np.arange(len(labels))\n",
    "    y_tick_marks = np.arange(len(labels))\n",
    "    plt.xticks(x_tick_marks, labels, rotation=45)\n",
    "    plt.yticks(y_tick_marks, labels)\n",
    "    #\n",
    "    thresh = cm.max() / 2.\n",
    "    for i, j in itertools.product(range(cm.shape[0]), range(cm.shape[1])):\n",
    "        plt.text(j, i, \"{}\".format(cm[i, j]),\n",
    "                 horizontalalignment=\"center\",\n",
    "                 color =\"white\" if cm[i, j] > thresh else \"black\")\n",
    "    plt.tight_layout()\n",
    "    plt.ylabel('True label')\n",
    "    plt.xlabel('Predicted label')\n",
    "    plt.show()"
   ]
  },
  {
   "attachments": {},
   "cell_type": "markdown",
   "metadata": {},
   "source": [
    "#Part-1 Trigram Tagger with Backoff"
   ]
  },
  {
   "cell_type": "code",
   "execution_count": 18,
   "metadata": {},
   "outputs": [
    {
     "name": "stdout",
     "output_type": "stream",
     "text": [
      "\n",
      "DOMAIN: adventure\n",
      "Train3245,Test928,Dev464\n"
     ]
    },
    {
     "name": "stderr",
     "output_type": "stream",
     "text": [
      "C:\\Users\\RAVI KIRAN\\AppData\\Local\\Temp\\ipykernel_25664\\3625064900.py:33: DeprecationWarning: \n",
      "  Function evaluate() has been deprecated.  Use accuracy(gold)\n",
      "  instead.\n",
      "  test_accuracy = t3.evaluate(test)\n",
      "C:\\Users\\RAVI KIRAN\\AppData\\Local\\Temp\\ipykernel_25664\\3625064900.py:34: DeprecationWarning: \n",
      "  Function evaluate() has been deprecated.  Use accuracy(gold)\n",
      "  instead.\n",
      "  dev_accuracy = t3.evaluate(dev)\n"
     ]
    },
    {
     "name": "stdout",
     "output_type": "stream",
     "text": [
      "Accuracy: test 0.90193 and dev 0.91135. Difference:-0.00942\n",
      "\n",
      "DOMAIN: belles_lettres\n",
      "Train5046,Test1442,Dev721\n",
      "Accuracy: test 0.92353 and dev 0.92716. Difference:-0.00364\n",
      "\n",
      "DOMAIN: editorial\n",
      "Train2097,Test600,Dev300\n",
      "Accuracy: test 0.89800 and dev 0.89662. Difference:0.00137\n",
      "\n",
      "DOMAIN: fiction\n",
      "Train2974,Test850,Dev425\n",
      "Accuracy: test 0.91087 and dev 0.90607. Difference:0.00480\n",
      "\n",
      "DOMAIN: government\n",
      "Train2122,Test607,Dev303\n",
      "Accuracy: test 0.90724 and dev 0.92511. Difference:-0.01787\n",
      "\n",
      "DOMAIN: hobbies\n",
      "Train2935,Test839,Dev419\n",
      "Accuracy: test 0.90082 and dev 0.88693. Difference:0.01389\n",
      "\n",
      "DOMAIN: humor\n",
      "Train737,Test211,Dev105\n",
      "Accuracy: test 0.83559 and dev 0.87372. Difference:-0.03813\n",
      "\n",
      "DOMAIN: learned\n",
      "Train5413,Test1547,Dev774\n",
      "Accuracy: test 0.92423 and dev 0.91430. Difference:0.00993\n",
      "\n",
      "DOMAIN: lore\n",
      "Train3416,Test977,Dev488\n",
      "Accuracy: test 0.91447 and dev 0.90381. Difference:0.01066\n",
      "\n",
      "DOMAIN: mystery\n",
      "Train2720,Test778,Dev388\n",
      "Accuracy: test 0.91182 and dev 0.91286. Difference:-0.00104\n",
      "\n",
      "DOMAIN: news\n",
      "Train3236,Test925,Dev462\n",
      "Accuracy: test 0.90370 and dev 0.91809. Difference:-0.01439\n",
      "\n",
      "DOMAIN: religion\n",
      "Train1201,Test344,Dev171\n",
      "Accuracy: test 0.91117 and dev 0.88313. Difference:0.02804\n",
      "\n",
      "DOMAIN: reviews\n",
      "Train1225,Test351,Dev175\n",
      "Accuracy: test 0.87256 and dev 0.88570. Difference:-0.01314\n",
      "\n",
      "DOMAIN: romance\n",
      "Train3101,Test887,Dev443\n",
      "Accuracy: test 0.91376 and dev 0.91467. Difference:-0.00090\n",
      "\n",
      "DOMAIN: science_fiction\n",
      "Train663,Test190,Dev95\n",
      "Accuracy: test 0.85989 and dev 0.81809. Difference:0.04181\n",
      "Best Accuracy: learned:0.92423. \n",
      "Worst Accuracy:humor:0.83559\n",
      "Largest difference:science_fiction:0.04181\n"
     ]
    }
   ],
   "source": [
    "##########################################################\n",
    "# Include your code to train Ngram taggers here\n",
    "##########################################################\n",
    "best = 0\n",
    "best_domain = \"\"\n",
    "worst = 1\n",
    "worst_domain = \"\"\n",
    "difference = 0\n",
    "difference_domain = \"\"\n",
    "for domain in brown.categories():\n",
    "  print(\"\\nDOMAIN: \"+domain)\n",
    "  # Created train_split/dev_split/test_split.\n",
    "  sentences = brown.tagged_sents(categories=domain, tagset=\"universal\")\n",
    "  dev_idx = int(len(sentences) * .7)\n",
    "  test_idx = int(len(sentences) * .8)\n",
    "  train = sentences[:dev_idx]\n",
    "  dev = sentences[dev_idx:test_idx]\n",
    "  test = sentences[test_idx:]\n",
    "  len_train = len(train)\n",
    "  len_dev = len(dev)\n",
    "  len_test = len(test)\n",
    "  print(f\"Train{len_train},Test{len_test},Dev{len_dev}\")\n",
    "  \n",
    "  # Here we train the trigram tagger:\n",
    "  t0 = nltk.DefaultTagger('NOUN')\n",
    "  t1 = nltk.UnigramTagger(train, backoff=t0)#unigram backoff to default taggger\n",
    "  t2 = nltk.BigramTagger(train, backoff=t1)#bigram backoff to unigram\n",
    "  t3 = nltk.TrigramTagger(train, backoff=t2) #trigram backoff to bigram\n",
    "\n",
    "\n",
    "  # get the dev and test accuracy and their difference\n",
    "  # print out the domain/dev acc/test acc/ and difference\n",
    "  test_accuracy = t3.evaluate(test)\n",
    "  dev_accuracy = t3.evaluate(dev)\n",
    "  difference_accuracy = test_accuracy-dev_accuracy\n",
    "  print(\"Accuracy: test {:.5f} and dev {:.5f}. Difference:{:.5f}\".format(test_accuracy,dev_accuracy,difference_accuracy))\n",
    "  if test_accuracy > best:\n",
    "    best = test_accuracy\n",
    "    best_domain = domain\n",
    "  if test_accuracy < worst:\n",
    "    worst = test_accuracy\n",
    "    worst_domain = domain\n",
    "  if abs(difference_accuracy) > difference:\n",
    "    difference = difference_accuracy\n",
    "    difference_domain = domain\n",
    "  \n",
    "print(\"Best Accuracy: {}:{:.5f}. \\nWorst Accuracy:{}:{:.5f}\".format(best_domain,best,worst_domain,worst))\n",
    "print(\"Largest difference:{}:{:.5f}\".format(difference_domain,difference))"
   ]
  },
  {
   "cell_type": "markdown",
   "metadata": {},
   "source": [
    "# Part-2 Confusion Matrix"
   ]
  },
  {
   "cell_type": "code",
   "execution_count": 19,
   "metadata": {},
   "outputs": [
    {
     "data": {
      "image/png": "[encoded data removed]",
      "text/plain": [
       "<Figure size 432x288 with 1 Axes>"
      ]
     },
     "metadata": {
      "needs_background": "light"
     },
     "output_type": "display_data"
    }
   ],
   "source": [
    "#function to untag a sentences.\n",
    "def untag(sentences):\n",
    "  untag_sent = list() #Flat list\n",
    "  for sentence in sentences:\n",
    "    words = list()\n",
    "    for word in sentence:\n",
    "      words.append(word[0]) #keep 0 for tag.\n",
    "    untag_sent.append(words)\n",
    "  return untag_sent\n",
    "\n",
    "test_untagged = untag(test)\n",
    "test_tagged = t2.tag_sents(test_untagged)\n",
    "\n",
    "\n",
    "y_real = [word[1] for sentence in test for word in sentence ]\n",
    "y_pred = [word[1] for sentence in test_tagged for word in sentence ]\n",
    "\n",
    "labels = list(dict.fromkeys(y_real))\n",
    "\n",
    "confusion_matrix = confusion_matrix(y_real,y_pred,labels=labels)\n",
    "plot_confusion_matrix(confusion_matrix,labels=labels)"
   ]
  },
  {
   "attachments": {},
   "cell_type": "markdown",
   "metadata": {},
   "source": [
    "PART 3:  a) performing in-depth error analysis on the previous results.\n",
    "\n",
    "1).Based on the code already available in pos_exercise.py, create a function to find sentences with errors. Use this function to collect all the sentences with errors in the dev set of the science_fiction domain of the brown corpus."
   ]
  },
  {
   "cell_type": "code",
   "execution_count": 20,
   "metadata": {},
   "outputs": [
    {
     "name": "stdout",
     "output_type": "stream",
     "text": [
      "train:9678\n",
      "test:2912\n",
      "\n",
      "Total:400\n",
      "Non-exist error:303\n",
      "Other:52\n"
     ]
    }
   ],
   "source": [
    "from math import log\n",
    "from collections import defaultdict\n",
    "\n",
    "def errors(sentences): # sentence: set of sentences tagged correctly \n",
    "  sentences_untagged = untag(sentences)\n",
    "  sentences_tagged = t2.tag_sents(sentences_untagged)\n",
    "  errors= [[word[0],word[1],word_tagged[1]] for sentence, sentence_tagged in zip(sentences,sentences_tagged) for word,word_tagged in zip(sentence,sentence_tagged) if word!=word_tagged]\n",
    "  return errors\n",
    "\n",
    "#let's produce two dictionaries with the number of times a word appears and the tags it has.\n",
    "def Information(train):\n",
    "  vocab = defaultdict(lambda: 0)\n",
    "  tags = defaultdict(lambda: list())\n",
    "  tag_freq = defaultdict(lambda: 0)\n",
    "  tag_freq_non_repeted = defaultdict(lambda: 0)\n",
    "  for sentence in train:\n",
    "    for word,pos in sentence:\n",
    "      if word not in vocab:\n",
    "        tag_freq_non_repeted[pos]+=1\n",
    "      vocab[word]+=1\n",
    "      tag_freq[pos]+=1\n",
    "      if pos not in tags[word]:\n",
    "        tags[word].append(pos)\n",
    "  return vocab,tags,tag_freq,tag_freq_non_repeted\n",
    "\n",
    "\n",
    "vocab,tags,tag_count,tag_count_non_repeted=Information(train)\n",
    "vocab_test,tags_test,tag_count_test,tag_count_non_repeted_test=Information(test)\n",
    "num_words = sum([vocab[word] for word in vocab])\n",
    "num_words_test = sum([vocab_test[word] for word in vocab_test])\n",
    "errors = errors(test)\n",
    "\n",
    "\n",
    "error_1 = list()\n",
    "error_2 = list() #words\n",
    "\n",
    "\n",
    "def dictionary(error,word,real,pred):\n",
    "  keys = ('word','num','tags')\n",
    "  for dict in error:\n",
    "    if dict[\"word\"][0]==word:\n",
    "      if dict[\"real\"][0]==real and dict[\"pred\"][0]==pred:\n",
    "        return dict\n",
    "  return False\n",
    "\n",
    "\n",
    "for word,real,pred in errors:\n",
    "  if vocab[word]>0:\n",
    "    error = dictionary(error_2,word,real,pred)\n",
    "    if error:\n",
    "      error[\"etimes\"][0]+=1\n",
    "    else:\n",
    "      error = defaultdict(list)\n",
    "      error[\"word\"].append(word)\n",
    "      error[\"num_train\"].append(vocab[word])\n",
    "      error[\"real_freq_train\"].append((vocab[word]/num_words)*100)\n",
    "      error[\"num_test\"].append(vocab_test[word])\n",
    "      error[\"real_freq_train\"].append((vocab[word]/num_words_test)*100)\n",
    "      error[\"tags\"].append(tags[word])\n",
    "      error[\"relative_tag_freq_train\"].append(tag_count[real])\n",
    "      error[\"relative_tag_freq_test\"].append(tag_count_test[real])\n",
    "      error[\"tag_freq_train_NR\"].append(tag_count_non_repeted[real])\n",
    "      error[\"tag_freq_test_NR\"].append(tag_count_non_repeted_test[real])\n",
    "      error[\"real\"].append(real)\n",
    "      error[\"pred\"].append(pred)\n",
    "      error[\"etimes\"].append(1)\n",
    "      error_2.append(error)\n",
    "  else:\n",
    "    error_1.append(word)\n",
    "\n",
    "\n",
    "\n",
    "\n",
    "print(\"train:{}\\ntest:{}\".format(num_words,num_words_test))\n",
    "print(\"\\nTotal:{}\\nNon-exist error:{}\\nOther:{}\".format(len(errors),len(error_1),len(error_2)))\n"
   ]
  },
  {
   "attachments": {},
   "cell_type": "markdown",
   "metadata": {},
   "source": [
    "The errors appear because most of train data does not have the words that test data has."
   ]
  },
  {
   "cell_type": "code",
   "execution_count": 21,
   "metadata": {},
   "outputs": [
    {
     "name": "stdout",
     "output_type": "stream",
     "text": [
      "word;num_train;real_freq_train;num_test;tags;relative_tag_freq_train;relative_tag_freq_test;tag_freq_train_NR;tag_freq_test_NR;real;pred;etimes\n",
      "work;6;0.06199628022318661;1;['NOUN', 'VERB'];1759;559;953;327;NOUN;VERB;1;\n",
      "her;16;0.16532341392849764;20;['PRON', 'DET'];635;215;28;22;PRON;DET;7;\n",
      "to;195;2.014879107253565;67;['PRT', 'ADP'];965;299;71;43;ADP;PRT;25;\n",
      "half;6;0.06199628022318661;2;['ADV', 'PRT'];361;86;43;16;PRT;ADV;1;\n",
      "first;8;0.08266170696424882;3;['ADV', 'ADJ'];575;161;180;81;ADV;ADJ;1;\n",
      "around;5;0.05166356685265551;2;['ADP', 'ADV'];575;161;180;81;ADV;ADP;1;\n",
      "one;24;0.24798512089274644;6;['NUM', 'NOUN'];1759;559;953;327;NOUN;NUM;2;\n",
      "there;20;0.20665426741062204;7;['PRT', 'ADV'];361;86;43;16;PRT;ADV;1;\n",
      "out;19;0.19632155404009094;14;['PRT', 'ADP'];965;299;71;43;ADP;PRT;8;\n",
      "field;2;0.020665426741062205;3;['VERB', 'NOUN'];1759;559;953;327;NOUN;VERB;3;\n",
      "outside;7;0.07232899359371771;1;['ADV', 'ADP'];580;180;337;113;ADJ;ADV;1;\n",
      "All;6;0.06199628022318661;1;['PRT', 'ADV'];361;86;43;16;PRT;ADV;1;\n",
      "No;13;0.13432527381690432;4;['ADV', 'DET'];1020;348;39;27;DET;ADV;2;\n",
      "little;6;0.06199628022318661;7;['ADJ'];575;161;180;81;ADV;ADJ;1;\n",
      "more;14;0.14465798718743542;3;['ADJ', 'ADV'];575;161;180;81;ADV;ADJ;1;\n",
      "waiting;1;0.010332713370531103;1;['NOUN'];1758;525;620;254;VERB;NOUN;1;\n",
      "board;3;0.030998140111593304;1;['NOUN'];1758;525;620;254;VERB;NOUN;1;\n",
      "touch;2;0.020665426741062205;1;['VERB'];1759;559;953;327;NOUN;VERB;1;\n",
      "lead;2;0.020665426741062205;1;['VERB', 'NOUN'];1759;559;953;327;NOUN;VERB;1;\n",
      "hurt;1;0.010332713370531103;2;['NOUN'];1758;525;620;254;VERB;NOUN;1;\n",
      "most;5;0.05166356685265551;2;['ADV', 'ADJ'];580;180;337;113;ADJ;ADV;1;\n",
      "as;40;0.4133085348212441;7;['ADP', 'ADV'];575;161;180;81;ADV;ADP;1;\n",
      "That;3;0.030998140111593304;2;['DET', 'ADP'];1020;348;39;27;DET;ADP;1;\n",
      "mind;9;0.09299442033477992;5;['NOUN', 'VERB'];1758;525;620;254;VERB;NOUN;1;\n",
      "that;98;1.012605910312048;16;['ADP', 'PRON', 'DET', 'ADV'];575;161;180;81;ADV;DET;1;\n",
      "over;8;0.08266170696424882;5;['PRT', 'ADP'];965;299;71;43;ADP;PRT;2;\n",
      "meaning;1;0.010332713370531103;2;['VERB'];1759;559;953;327;NOUN;VERB;2;\n",
      "return;2;0.020665426741062205;1;['VERB', 'NOUN'];1759;559;953;327;NOUN;VERB;1;\n",
      "much;11;0.11365984707584212;3;['ADJ', 'ADV'];575;161;180;81;ADV;ADJ;1;\n",
      "that;98;1.012605910312048;16;['ADP', 'PRON', 'DET', 'ADV'];1020;348;39;27;DET;ADP;1;\n",
      "close;2;0.020665426741062205;1;['ADJ', 'ADV'];575;161;180;81;ADV;ADJ;1;\n",
      "no;26;0.26865054763380863;14;['DET', 'ADV'];575;161;180;81;ADV;DET;2;\n",
      "more;14;0.14465798718743542;3;['ADJ', 'ADV'];580;180;337;113;ADJ;ADV;1;\n",
      "over;8;0.08266170696424882;5;['PRT', 'ADP'];361;86;43;16;PRT;ADP;1;\n",
      "back;12;0.12399256044637322;6;['ADV', 'NOUN'];1759;559;953;327;NOUN;ADV;1;\n",
      "once;4;0.04133085348212441;1;['ADP', 'ADV'];575;161;180;81;ADV;ADP;1;\n",
      "pretty;1;0.010332713370531103;1;['ADV'];580;180;337;113;ADJ;ADV;1;\n",
      "her;16;0.16532341392849764;20;['PRON', 'DET'];1020;348;39;27;DET;PRON;1;\n",
      "hope;1;0.010332713370531103;2;['VERB'];1759;559;953;327;NOUN;VERB;2;\n",
      "sleep;4;0.04133085348212441;1;['VERB'];1759;559;953;327;NOUN;VERB;1;\n",
      "sure;4;0.04133085348212441;1;['ADJ', 'ADV'];580;180;337;113;ADJ;ADV;1;\n",
      "longer;6;0.06199628022318661;2;['ADJ'];575;161;180;81;ADV;ADJ;1;\n",
      "check;2;0.020665426741062205;1;['NOUN'];1758;525;620;254;VERB;NOUN;1;\n",
      "public;2;0.020665426741062205;1;['NOUN', 'ADJ'];580;180;337;113;ADJ;NOUN;1;\n",
      "that;98;1.012605910312048;16;['ADP', 'PRON', 'DET', 'ADV'];965;299;71;43;ADP;DET;1;\n",
      "square;1;0.010332713370531103;1;['VERB'];1759;559;953;327;NOUN;VERB;1;\n",
      "less;8;0.08266170696424882;1;['ADV', 'ADJ'];580;180;337;113;ADJ;ADV;1;\n",
      "by;27;0.27898326100433973;3;['ADP'];575;161;180;81;ADV;ADP;1;\n",
      "across;1;0.010332713370531103;1;['ADV'];965;299;71;43;ADP;ADV;1;\n",
      "on;64;0.6612936557139906;16;['ADP', 'PRT'];361;86;43;16;PRT;ADP;1;\n",
      "in;111;1.1469311841289522;28;['ADP', 'PRT'];361;86;43;16;PRT;ADP;1;\n",
      "only;15;0.15499070055796654;3;['ADJ', 'ADV'];575;161;180;81;ADV;ADJ;1;\n"
     ]
    }
   ],
   "source": [
    "print(\";\".join(list(error_2[0].keys())))\n",
    "for info in error_2:\n",
    "  for key in info:\n",
    "    print(info[key][0],end=\";\")\n",
    "  print(\"\")"
   ]
  },
  {
   "cell_type": "code",
   "execution_count": 22,
   "metadata": {},
   "outputs": [
    {
     "name": "stdout",
     "output_type": "stream",
     "text": [
      "5\n",
      "[('``', '.'), ('No', 'DET'), ('directives', 'NOUN'), ('from', 'ADP'), ('Central', 'ADJ'), ('is', 'VERB'), ('scarcely', 'ADV'), ('a', 'DET'), ('cause', 'NOUN'), ('for', 'ADP'), ('regret', 'NOUN'), (',', '.'), ('but', 'CONJ'), ('there', 'PRT'), ('happen', 'VERB'), ('to', 'PRT'), ('be', 'VERB'), ('eight', 'NUM'), ('other', 'ADJ'), ('guys', 'NOUN'), ('biting', 'VERB'), ('their', 'DET'), ('fingernails', 'NOUN'), ('to', 'ADP'), ('the', 'DET'), ('quick', 'NOUN'), ('just', 'ADV'), ('waiting', 'VERB'), ('for', 'ADP'), ('an', 'DET'), ('invitation', 'NOUN'), ('to', 'PRT'), ('board', 'VERB'), ('you', 'PRON'), (',', '.'), ('you', 'PRON'), ('beautiful', 'ADJ'), ('thing', 'NOUN'), (\"''\", '.'), ('.', '.')]\n",
      "`` No directives from Central is scarcely a cause for regret , but there happen to be eight other guys biting their fingernails to the quick just waiting for an invitation to board you , you beautiful thing '' . \n",
      "[(\"You're\", 'PRT'), ('beautiful', 'ADJ'), (',', '.'), ('beautiful', 'ADJ'), (',', '.'), ('beautiful', 'ADJ'), ('.', '.')]\n",
      "You're beautiful , beautiful , beautiful . \n",
      "[(\"You're\", 'PRT'), ('beautiful', 'ADJ'), (',', '.'), ('beautiful', 'ADJ'), (',', '.'), ('beautiful', 'ADJ'), ('.', '.')]\n",
      "You're beautiful , beautiful , beautiful . \n",
      "[(\"You're\", 'PRT'), ('beautiful', 'ADJ'), (',', '.'), ('beautiful', 'ADJ'), (',', '.'), ('beautiful', 'ADJ'), ('.', '.')]\n",
      "You're beautiful , beautiful , beautiful . \n",
      "[('In', 'ADP'), ('that', 'ADV'), ('beautiful', 'ADJ'), ('place', 'NOUN'), (',', '.'), ('among', 'ADP'), ('all', 'PRT'), ('those', 'DET'), ('companionable', 'ADJ'), ('and', 'CONJ'), ('attractive', 'ADJ'), ('people', 'NOUN'), (',', '.'), ('he', 'PRON'), ('sat', 'VERB'), ('and', 'CONJ'), ('smiled', 'VERB'), ('.', '.')]\n",
      "In that beautiful place , among all those companionable and attractive people , he sat and smiled . \n"
     ]
    }
   ],
   "source": [
    "def search(sentences,token,tag=None):\n",
    "  if tag:\n",
    "    sent_f = [sent for sent in sentences for w in sent if w==(token,tag)]\n",
    "  else:\n",
    "    sent_f = [sent for sent in sentences for w in sent if w[0]==token]\n",
    "  return sent_f\n",
    "\n",
    "\n",
    "token =\"beautiful\"\n",
    "tag =\"ADJ\"\n",
    "set_choosen = test\n",
    "print(len(search(set_choosen,token,tag)))\n",
    "for sentence1 in search(set_choosen,token,tag):\n",
    "  print(sentence1)\n",
    "  [print(w[0],end=\" \") for w in sentence1]\n",
    "  print()"
   ]
  }
 ],
 "metadata": {
  "kernelspec": {
   "display_name": "base",
   "language": "python",
   "name": "python3"
  },
  "language_info": {
   "codemirror_mode": {
    "name": "ipython",
    "version": 3
   },
   "file_extension": ".py",
   "mimetype": "text/x-python",
   "name": "python",
   "nbconvert_exporter": "python",
   "pygments_lexer": "ipython3",
   "version": "3.9.12"
  },
  "orig_nbformat": 4,
  "vscode": {
   "interpreter": {
    "hash": "ad2bdc8ecc057115af97d19610ffacc2b4e99fae6737bb82f5d7fb13d2f2c186"
   }
  }
 },
 "nbformat": 4,
 "nbformat_minor": 2
}
