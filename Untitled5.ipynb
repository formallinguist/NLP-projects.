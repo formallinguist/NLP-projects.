{
  "nbformat": 4,
  "nbformat_minor": 0,
  "metadata": {
    "colab": {
      "name": "Untitled5.ipynb",
      "provenance": [],
      "authorship_tag": "ABX9TyPkHNIMcGavmTlM9MoONhMu",
      "include_colab_link": true
    },
    "kernelspec": {
      "name": "python3",
      "display_name": "Python 3"
    },
    "language_info": {
      "name": "python"
    }
  },
  "cells": [
    {
      "cell_type": "markdown",
      "metadata": {
        "id": "view-in-github",
        "colab_type": "text"
      },
      "source": [
        "<a href=\"https://colab.research.google.com/github/formallinguist/NLP-projects./blob/main/Untitled5.ipynb\" target=\"_parent\"><img src=\"https://colab.research.google.com/assets/colab-badge.svg\" alt=\"Open In Colab\"/></a>"
      ]
    },
    {
      "cell_type": "markdown",
      "source": [
        "ENCODING\n",
        "\n",
        "1.   ASCII\n",
        "2.   Unicode\n",
        "under unicode we have utf8 and utf 16.\n",
        "\n",
        "\n",
        "\n"
      ],
      "metadata": {
        "id": "eA5-WWEbNZ79"
      }
    },
    {
      "cell_type": "code",
      "execution_count": 1,
      "metadata": {
        "id": "qiVYzfIML9bN"
      },
      "outputs": [],
      "source": [
        "string = '''Hola! Yo empecÃ© aprendo EspaÃ±ol hace dos mes en la escuela. Yo voy la universidad. Yo tratar estudioso EspaÃ±ol tres hora todos los dÃ*as para que yo saco mejor rÃ¡pido. Â¿Cosa algÃºn yo debo hacer ademÃ¡s construir mÃ* vocabulario? Muchas veces yo estudioso la palabras solo para que yo construir mÃ* voabulario rÃ¡pido. \n",
        "Yo quiero empiezo leo el periÃ³dico EspaÃ±ol la prÃ³xima semana. Por favor correcto algÃºn la equivocaciÃ³nes yo hisciste. Gracias! What I wanted to say:Hello I started learning Spanish a few months ago in school.I go to college. I try to study Spanish 3 hours everyday so I get better fast. \n",
        "Is there anything else I should do besides build vocabulary? Most of the time I study words to build my vocabulary fast.\n",
        " I want to focus on rules later. In a few weeks I want to start reading Spanish newspapers. Please correct any mistakes I made! Thanks'''"
      ]
    },
    {
      "cell_type": "code",
      "source": [
        "print(string)"
      ],
      "metadata": {
        "colab": {
          "base_uri": "https://localhost:8080/"
        },
        "id": "nmZFloSyQGQP",
        "outputId": "7a934f2a-051c-4050-a493-cebc62805028"
      },
      "execution_count": 2,
      "outputs": [
        {
          "output_type": "stream",
          "name": "stdout",
          "text": [
            "Hola! Yo empecÃ© aprendo EspaÃ±ol hace dos mes en la escuela. Yo voy la universidad. Yo tratar estudioso EspaÃ±ol tres hora todos los dÃ*as para que yo saco mejor rÃ¡pido. Â¿Cosa algÃºn yo debo hacer ademÃ¡s construir mÃ* vocabulario? Muchas veces yo estudioso la palabras solo para que yo construir mÃ* voabulario rÃ¡pido. \n",
            "Yo quiero empiezo leo el periÃ³dico EspaÃ±ol la prÃ³xima semana. Por favor correcto algÃºn la equivocaciÃ³nes yo hisciste. Gracias! What I wanted to say:Hello I started learning Spanish a few months ago in school.I go to college. I try to study Spanish 3 hours everyday so I get better fast. \n",
            "Is there anything else I should do besides build vocabulary? Most of the time I study words to build my vocabulary fast.\n",
            " I want to focus on rules later. In a few weeks I want to start reading Spanish newspapers. Please correct any mistakes I made! Thanks\n"
          ]
        }
      ]
    },
    {
      "cell_type": "code",
      "source": [
        "with open('file.txt','w',encoding='utf8') as f:\n",
        "  f.write(string)"
      ],
      "metadata": {
        "id": "yfGF4BA5QSX0"
      },
      "execution_count": 4,
      "outputs": []
    },
    {
      "cell_type": "code",
      "source": [
        "with open('file.txt','r',encoding='utf8') as f:\n",
        "  print(f.read())"
      ],
      "metadata": {
        "colab": {
          "base_uri": "https://localhost:8080/"
        },
        "id": "_Q2BXgbIRgEm",
        "outputId": "30632a45-ce88-45af-9c1d-79ed6f4eaa33"
      },
      "execution_count": 7,
      "outputs": [
        {
          "output_type": "stream",
          "name": "stdout",
          "text": [
            "Hola! Yo empecÃ© aprendo EspaÃ±ol hace dos mes en la escuela. Yo voy la universidad. Yo tratar estudioso EspaÃ±ol tres hora todos los dÃ*as para que yo saco mejor rÃ¡pido. Â¿Cosa algÃºn yo debo hacer ademÃ¡s construir mÃ* vocabulario? Muchas veces yo estudioso la palabras solo para que yo construir mÃ* voabulario rÃ¡pido. \n",
            "Yo quiero empiezo leo el periÃ³dico EspaÃ±ol la prÃ³xima semana. Por favor correcto algÃºn la equivocaciÃ³nes yo hisciste. Gracias! What I wanted to say:Hello I started learning Spanish a few months ago in school.I go to college. I try to study Spanish 3 hours everyday so I get better fast. \n",
            "Is there anything else I should do besides build vocabulary? Most of the time I study words to build my vocabulary fast.\n",
            " I want to focus on rules later. In a few weeks I want to start reading Spanish newspapers. Please correct any mistakes I made! Thanks\n"
          ]
        }
      ]
    },
    {
      "cell_type": "markdown",
      "source": [
        "STRING OPERATIONS:"
      ],
      "metadata": {
        "id": "l1ZAm1zvUAvt"
      }
    },
    {
      "cell_type": "code",
      "source": [
        "sample = \"This is my first session on Nlp 1\""
      ],
      "metadata": {
        "id": "EhnNfqmAR3Yt"
      },
      "execution_count": 57,
      "outputs": []
    },
    {
      "cell_type": "code",
      "source": [
        "sample[0]"
      ],
      "metadata": {
        "colab": {
          "base_uri": "https://localhost:8080/",
          "height": 37
        },
        "id": "jziHit4MWOsQ",
        "outputId": "df5214ee-ce89-466b-cdf6-bb7c91c5f4c8"
      },
      "execution_count": 58,
      "outputs": [
        {
          "output_type": "execute_result",
          "data": {
            "application/vnd.google.colaboratory.intrinsic+json": {
              "type": "string"
            },
            "text/plain": [
              "'T'"
            ]
          },
          "metadata": {},
          "execution_count": 58
        }
      ]
    },
    {
      "cell_type": "code",
      "source": [
        "sample[-1]"
      ],
      "metadata": {
        "colab": {
          "base_uri": "https://localhost:8080/",
          "height": 37
        },
        "id": "yvETWwJtWT-d",
        "outputId": "dc2ccb50-2dc7-45e3-c8af-72c772cdbd3b"
      },
      "execution_count": 59,
      "outputs": [
        {
          "output_type": "execute_result",
          "data": {
            "application/vnd.google.colaboratory.intrinsic+json": {
              "type": "string"
            },
            "text/plain": [
              "'1'"
            ]
          },
          "metadata": {},
          "execution_count": 59
        }
      ]
    },
    {
      "cell_type": "code",
      "source": [
        "sample[-3]"
      ],
      "metadata": {
        "colab": {
          "base_uri": "https://localhost:8080/",
          "height": 37
        },
        "id": "CNt6Ld72WZj3",
        "outputId": "ef5fd097-8e64-490a-8cb8-b329ff99807e"
      },
      "execution_count": 60,
      "outputs": [
        {
          "output_type": "execute_result",
          "data": {
            "application/vnd.google.colaboratory.intrinsic+json": {
              "type": "string"
            },
            "text/plain": [
              "'p'"
            ]
          },
          "metadata": {},
          "execution_count": 60
        }
      ]
    },
    {
      "cell_type": "markdown",
      "source": [
        "SLICING"
      ],
      "metadata": {
        "id": "3bfs7dHdW0CJ"
      }
    },
    {
      "cell_type": "code",
      "source": [
        "sample[:7]"
      ],
      "metadata": {
        "colab": {
          "base_uri": "https://localhost:8080/",
          "height": 37
        },
        "id": "-Q-d1Mo0We1g",
        "outputId": "7cb36f41-c037-431d-a809-0e5a59a7ed77"
      },
      "execution_count": 61,
      "outputs": [
        {
          "output_type": "execute_result",
          "data": {
            "application/vnd.google.colaboratory.intrinsic+json": {
              "type": "string"
            },
            "text/plain": [
              "'This is'"
            ]
          },
          "metadata": {},
          "execution_count": 61
        }
      ]
    },
    {
      "cell_type": "code",
      "source": [
        "sample[:9]"
      ],
      "metadata": {
        "colab": {
          "base_uri": "https://localhost:8080/",
          "height": 37
        },
        "id": "pUqGdhGNWi7H",
        "outputId": "36c7668e-64d2-4760-eb4a-acbcbbf87f70"
      },
      "execution_count": 62,
      "outputs": [
        {
          "output_type": "execute_result",
          "data": {
            "application/vnd.google.colaboratory.intrinsic+json": {
              "type": "string"
            },
            "text/plain": [
              "'This is m'"
            ]
          },
          "metadata": {},
          "execution_count": 62
        }
      ]
    },
    {
      "cell_type": "code",
      "source": [
        "sample2 = \"I hope this is making sense\""
      ],
      "metadata": {
        "id": "VF8FECu-W5Bl"
      },
      "execution_count": 63,
      "outputs": []
    },
    {
      "cell_type": "code",
      "source": [
        "sample+\" \" +sample2"
      ],
      "metadata": {
        "id": "PiqTIPKlXIYZ"
      },
      "execution_count": null,
      "outputs": []
    },
    {
      "cell_type": "markdown",
      "source": [
        "Methods on strings."
      ],
      "metadata": {
        "id": "7UVv2c7-Xbfa"
      }
    },
    {
      "cell_type": "code",
      "source": [
        "sample.upper()"
      ],
      "metadata": {
        "colab": {
          "base_uri": "https://localhost:8080/",
          "height": 37
        },
        "id": "5G5NyAFTXPT6",
        "outputId": "e27fd08c-e324-4654-b60a-e457dc7910b0"
      },
      "execution_count": 65,
      "outputs": [
        {
          "output_type": "execute_result",
          "data": {
            "application/vnd.google.colaboratory.intrinsic+json": {
              "type": "string"
            },
            "text/plain": [
              "'THIS IS MY FIRST SESSION ON NLP 1'"
            ]
          },
          "metadata": {},
          "execution_count": 65
        }
      ]
    },
    {
      "cell_type": "code",
      "source": [
        "sample.lower()"
      ],
      "metadata": {
        "colab": {
          "base_uri": "https://localhost:8080/",
          "height": 37
        },
        "id": "7hlqrO1wZZ1z",
        "outputId": "24b7f30c-720a-4a55-f325-bce24c485a06"
      },
      "execution_count": 66,
      "outputs": [
        {
          "output_type": "execute_result",
          "data": {
            "application/vnd.google.colaboratory.intrinsic+json": {
              "type": "string"
            },
            "text/plain": [
              "'this is my first session on nlp 1'"
            ]
          },
          "metadata": {},
          "execution_count": 66
        }
      ]
    },
    {
      "cell_type": "code",
      "source": [
        "len(sample)"
      ],
      "metadata": {
        "colab": {
          "base_uri": "https://localhost:8080/"
        },
        "id": "8pcyneaUZpil",
        "outputId": "b554ae9f-9474-46e5-bb45-31c72815d700"
      },
      "execution_count": 67,
      "outputs": [
        {
          "output_type": "execute_result",
          "data": {
            "text/plain": [
              "33"
            ]
          },
          "metadata": {},
          "execution_count": 67
        }
      ]
    },
    {
      "cell_type": "code",
      "source": [
        "sample.find('nlp')"
      ],
      "metadata": {
        "colab": {
          "base_uri": "https://localhost:8080/"
        },
        "id": "h7XSp4beZvb8",
        "outputId": "c19c7f05-3ab9-40d6-8e4a-3e6ae5266885"
      },
      "execution_count": 68,
      "outputs": [
        {
          "output_type": "execute_result",
          "data": {
            "text/plain": [
              "-1"
            ]
          },
          "metadata": {},
          "execution_count": 68
        }
      ]
    },
    {
      "cell_type": "markdown",
      "source": [
        "FORMAT OUTPUT."
      ],
      "metadata": {
        "id": "Lqq3-sTJbWEt"
      }
    },
    {
      "cell_type": "code",
      "source": [
        "s1 = \"SAMPLE STRING\"\n",
        "X = 1"
      ],
      "metadata": {
        "id": "r4lxhny4baZ1"
      },
      "execution_count": 69,
      "outputs": []
    },
    {
      "cell_type": "code",
      "source": [
        "print ('This is the',s1,'for session',X)"
      ],
      "metadata": {
        "colab": {
          "base_uri": "https://localhost:8080/"
        },
        "id": "LfTNeVXobok_",
        "outputId": "6e5f0d5a-5f6a-41ac-8b4b-38b3f50a9c11"
      },
      "execution_count": 70,
      "outputs": [
        {
          "output_type": "stream",
          "name": "stdout",
          "text": [
            "This is the SAMPLE STRING for session 1\n"
          ]
        }
      ]
    },
    {
      "cell_type": "code",
      "source": [
        "print ('This is the{}for session{}'.format(s1,X))"
      ],
      "metadata": {
        "colab": {
          "base_uri": "https://localhost:8080/"
        },
        "id": "WFeALNWzcW0w",
        "outputId": "3251f492-a00f-4ad6-97c6-e5076d31befb"
      },
      "execution_count": 71,
      "outputs": [
        {
          "output_type": "stream",
          "name": "stdout",
          "text": [
            "This is theSAMPLE STRINGfor session1\n"
          ]
        }
      ]
    },
    {
      "cell_type": "markdown",
      "source": [
        "Regex"
      ],
      "metadata": {
        "id": "cl-XPKiffTyp"
      }
    },
    {
      "cell_type": "code",
      "source": [
        "import re"
      ],
      "metadata": {
        "id": "EN_d27fLfXoG"
      },
      "execution_count": 72,
      "outputs": []
    },
    {
      "cell_type": "code",
      "source": [
        "print(sample)"
      ],
      "metadata": {
        "colab": {
          "base_uri": "https://localhost:8080/"
        },
        "id": "U2KV7UQzlMr-",
        "outputId": "56fcbf28-2b23-433f-916f-1cc5a7a0f9b6"
      },
      "execution_count": 31,
      "outputs": [
        {
          "output_type": "stream",
          "name": "stdout",
          "text": [
            "this is my first session on nlp\n"
          ]
        }
      ]
    },
    {
      "cell_type": "code",
      "source": [
        "x = re.search(\"^this\",sample)"
      ],
      "metadata": {
        "id": "9q6cjK8IlSGR"
      },
      "execution_count": 33,
      "outputs": []
    },
    {
      "cell_type": "code",
      "source": [
        "x.group()"
      ],
      "metadata": {
        "colab": {
          "base_uri": "https://localhost:8080/",
          "height": 37
        },
        "id": "VHYy_0oIlvCt",
        "outputId": "62f25bb1-6a52-4fcb-f544-15dbde081bd1"
      },
      "execution_count": 34,
      "outputs": [
        {
          "output_type": "execute_result",
          "data": {
            "application/vnd.google.colaboratory.intrinsic+json": {
              "type": "string"
            },
            "text/plain": [
              "'this'"
            ]
          },
          "metadata": {},
          "execution_count": 34
        }
      ]
    },
    {
      "cell_type": "code",
      "source": [
        "space = sample[8:11]"
      ],
      "metadata": {
        "id": "U5HI8Um1m_aI"
      },
      "execution_count": 53,
      "outputs": []
    },
    {
      "cell_type": "code",
      "source": [
        "space.strip()"
      ],
      "metadata": {
        "colab": {
          "base_uri": "https://localhost:8080/",
          "height": 37
        },
        "id": "BqNr6_Atnc_6",
        "outputId": "a7a864b7-35a4-46cb-e53a-51c7e4da168c"
      },
      "execution_count": 54,
      "outputs": [
        {
          "output_type": "execute_result",
          "data": {
            "application/vnd.google.colaboratory.intrinsic+json": {
              "type": "string"
            },
            "text/plain": [
              "'my'"
            ]
          },
          "metadata": {},
          "execution_count": 54
        }
      ]
    },
    {
      "cell_type": "code",
      "source": [
        "re.findall(\"(\\w+)\",sample)"
      ],
      "metadata": {
        "colab": {
          "base_uri": "https://localhost:8080/"
        },
        "id": "JXhvENltp0ia",
        "outputId": "92cfa6ca-a090-42ec-a821-f26a243fc2d2"
      },
      "execution_count": 76,
      "outputs": [
        {
          "output_type": "execute_result",
          "data": {
            "text/plain": [
              "['This', 'is', 'my', 'first', 'session', 'on', 'Nlp', '1']"
            ]
          },
          "metadata": {},
          "execution_count": 76
        }
      ]
    }
  ]
}