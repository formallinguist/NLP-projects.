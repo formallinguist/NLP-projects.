{
  "nbformat": 4,
  "nbformat_minor": 0,
  "metadata": {
    "colab": {
      "name": "Topic modelling.ipynb",
      "provenance": [],
      "authorship_tag": "ABX9TyMKjalSWJELs4VNYRpt0++N",
      "include_colab_link": true
    },
    "kernelspec": {
      "name": "python3",
      "display_name": "Python 3"
    },
    "language_info": {
      "name": "python"
    }
  },
  "cells": [
    {
      "cell_type": "markdown",
      "metadata": {
        "id": "view-in-github",
        "colab_type": "text"
      },
      "source": [
        "<a href=\"https://colab.research.google.com/github/formallinguist/NLP-projects./blob/main/Topic_modelling.ipynb\" target=\"_parent\"><img src=\"https://colab.research.google.com/assets/colab-badge.svg\" alt=\"Open In Colab\"/></a>"
      ]
    },
    {
      "cell_type": "markdown",
      "source": [
        "Topic modelling : from the given data, we have to see what the document is talking about. It is an unsupravised learning."
      ],
      "metadata": {
        "id": "JvryrCKuHvTF"
      }
    },
    {
      "cell_type": "markdown",
      "source": [
        "-unsupravised learning.\n",
        "it could be done by LSA,PLSA,LDA."
      ],
      "metadata": {
        "id": "4n_L8y77IBQV"
      }
    },
    {
      "cell_type": "code",
      "source": [
        "from nltk.tokenize import word_tokenize"
      ],
      "metadata": {
        "id": "MkZuE8XdIeOi"
      },
      "execution_count": 158,
      "outputs": []
    },
    {
      "cell_type": "code",
      "source": [
        "from nltk.corpus import stopwords"
      ],
      "metadata": {
        "id": "2UFD2BK22qnf"
      },
      "execution_count": 141,
      "outputs": []
    },
    {
      "cell_type": "code",
      "source": [
        "from nltk.tokenize import sent_tokenize"
      ],
      "metadata": {
        "id": "cmOJGkqPA4r1"
      },
      "execution_count": 160,
      "outputs": []
    },
    {
      "cell_type": "code",
      "source": [
        "data = '''Hyderabad (/ˈhaɪdərəbæd/ (audio speaker iconlisten) HY-dər-ə-bad;[6] Telugu: [ˈɦaɪ̯daraːbaːd], Urdu: [ˈɦɛːdəɾaːbaːd]) is the capital and largest city of the Indian state of Telangana and the de jure capital of Andhra Pradesh.[A] It occupies 650 km2 (250 sq mi) on the Deccan Plateau along the banks of the Musi River, in the northern part of South India. With an average altitude of 542 m (1,778 ft), much of Hyderabad is situated on hilly terrain around artificial lakes, including the Hussain Sagar lake, predating the city's founding, in the north of the city centre. According to the 2011 Census of India, Hyderabad is the fourth-most populous city in India with a population of 6.9 million residents within the city limits, and has a population of 9.7 million residents in the metropolitan region, making it the sixth-most populous metropolitan area in India. With an output of US$74 billion, Hyderabad has the fifth-largest urban economy in India.\n",
        "\n",
        "Muhammad Quli Qutb Shah established Hyderabad in 1591 to extend the capital beyond the fortified Golconda. In 1687, the city was annexed by the Mughals. In 1724, Mughal Viceroy Nizam Asaf Jah I declared his sovereignty and founded the Asaf Jahi dynasty, also known as the Nizams. Hyderabad served as the imperial capital of the Asaf Jahis from 1769 to 1948. As capital of the princely state of Hyderabad, the city housed the British Residency and cantonment until Indian independence in 1947. Hyderabad was annexed by the Indian Union in 1948 and continued as a capital of Hyderabad State (1948–56). After the introduction of the States Reorganisation Act of 1956, Hyderabad was made the capital of the newly formed Andhra Pradesh. In 2014, Andhra Pradesh was bifurcated to form Telangana and Hyderabad became the joint capital of the two states with a transitional arrangement scheduled to end in 2024. Since 1956, the city has housed the winter office of the President of India.\n",
        "\n",
        "Relics of the Qutb Shahi and Nizam rules remain visible today; the Charminar has come to symbolise the city. By the end of early modern era, the Mughal Empire declined in the Deccan and the Nizam's patronage had attracted men of letters from various parts of the world. The amalgamation of local and migrated artisans had originated a distinctive culture, and the city emerged as a significant centre of oriental culture. Painting, handicraft, jewellery, literature, dialect and clothing are prominent still today. Through its cuisine, the city is listed as a UNESCO creative city of gastronomy. The Telugu film industry based in the city was the country's second-largest producer of motion pictures as of 2012.\n",
        "\n",
        "Until the 19th century Hyderabad was known for the pearl industry and was nicknamed the \"City of Pearls\", and was the only Golconda Diamonds trading centre in the world. Many of the city's historical and traditional bazaars remain open. Hyderabad's central location between the Deccan Plateau and the Western Ghats, and industrialisation throughout the 20th century attracted major Indian research, manufacturing, educational and financial institutions. Since the 1990s, the city has emerged as an Indian hub of pharmaceuticals and biotechnology. The formation of special economic zones and HITEC City dedicated to information technology has encouraged leading multinationals to set up operations in Hyderabad.'''"
      ],
      "metadata": {
        "id": "jocVA_N_Uz8a"
      },
      "execution_count": 159,
      "outputs": []
    },
    {
      "cell_type": "code",
      "source": [
        "Text = sent_tokenize(data)"
      ],
      "metadata": {
        "id": "lzUtJ-W-BfsG"
      },
      "execution_count": 161,
      "outputs": []
    },
    {
      "cell_type": "code",
      "source": [
        "from nltk.stem import WordNetLemmatizer\n",
        "word_lemmatizer = WordNetLemmatizer()"
      ],
      "metadata": {
        "id": "XOnE87_bDTNY"
      },
      "execution_count": 180,
      "outputs": []
    },
    {
      "cell_type": "code",
      "source": [
        "nltk.download('wordnet')"
      ],
      "metadata": {
        "id": "ViEYwdXaDdGH",
        "outputId": "5056c24a-008b-4f30-c0eb-7dd9f1b65dbd",
        "colab": {
          "base_uri": "https://localhost:8080/"
        }
      },
      "execution_count": 183,
      "outputs": [
        {
          "output_type": "stream",
          "name": "stdout",
          "text": [
            "[nltk_data] Downloading package wordnet to /root/nltk_data...\n",
            "[nltk_data]   Unzipping corpora/wordnet.zip.\n"
          ]
        },
        {
          "output_type": "execute_result",
          "data": {
            "text/plain": [
              "True"
            ]
          },
          "metadata": {},
          "execution_count": 183
        }
      ]
    },
    {
      "cell_type": "code",
      "source": [
        "def preprocess(document):\n",
        "  document = document.lower()\n",
        "  words = word_tokenize(document)\n",
        "  words = [word for word in words if word not in stopwords.words('english')]\n",
        "  words = [word_lemmatizer.lemmatize(word) for word in words]\n",
        "  document = \" \".join(words)\n",
        "  return document"
      ],
      "metadata": {
        "id": "bw4zAvAb22KM"
      },
      "execution_count": 181,
      "outputs": []
    },
    {
      "cell_type": "code",
      "source": [
        "ptext = [preprocess(document).split() for document in Text]"
      ],
      "metadata": {
        "id": "f3OsvnLk3YUu"
      },
      "execution_count": 184,
      "outputs": []
    },
    {
      "cell_type": "code",
      "source": [
        "print(ptext)"
      ],
      "metadata": {
        "colab": {
          "base_uri": "https://localhost:8080/"
        },
        "id": "4DlTVi1G3pEb",
        "outputId": "6b8781b8-36c0-4f26-9108-9be094b8c8f5"
      },
      "execution_count": 185,
      "outputs": [
        {
          "output_type": "stream",
          "name": "stdout",
          "text": [
            "[['hyderabad', '(', '/ˈhaɪdərəbæd/', '(', 'audio', 'speaker', 'iconlisten', ')', 'hy-dər-ə-bad', ';', '[', '6', ']', 'telugu', ':', '[', 'ˈɦaɪ̯daraːbaːd', ']', ',', 'urdu', ':', '[', 'ˈɦɛːdəɾaːbaːd', ']', ')', 'capital', 'largest', 'city', 'indian', 'state', 'telangana', 'de', 'jure', 'capital', 'andhra', 'pradesh', '.'], ['[', ']', 'occupies', '650', 'km2', '(', '250', 'sq', 'mi', ')', 'deccan', 'plateau', 'along', 'bank', 'musi', 'river', ',', 'northern', 'part', 'south', 'india', '.'], ['average', 'altitude', '542', '(', '1,778', 'ft', ')', ',', 'much', 'hyderabad', 'situated', 'hilly', 'terrain', 'around', 'artificial', 'lake', ',', 'including', 'hussain', 'sagar', 'lake', ',', 'predating', 'city', \"'s\", 'founding', ',', 'north', 'city', 'centre', '.'], ['according', '2011', 'census', 'india', ',', 'hyderabad', 'fourth-most', 'populous', 'city', 'india', 'population', '6.9', 'million', 'resident', 'within', 'city', 'limit', ',', 'population', '9.7', 'million', 'resident', 'metropolitan', 'region', ',', 'making', 'sixth-most', 'populous', 'metropolitan', 'area', 'india', '.'], ['output', 'u', '$', '74', 'billion', ',', 'hyderabad', 'fifth-largest', 'urban', 'economy', 'india', '.'], ['muhammad', 'quli', 'qutb', 'shah', 'established', 'hyderabad', '1591', 'extend', 'capital', 'beyond', 'fortified', 'golconda', '.'], ['1687', ',', 'city', 'annexed', 'mughals', '.'], ['1724', ',', 'mughal', 'viceroy', 'nizam', 'asaf', 'jah', 'declared', 'sovereignty', 'founded', 'asaf', 'jahi', 'dynasty', ',', 'also', 'known', 'nizams', '.'], ['hyderabad', 'served', 'imperial', 'capital', 'asaf', 'jahis', '1769', '1948', '.'], ['capital', 'princely', 'state', 'hyderabad', ',', 'city', 'housed', 'british', 'residency', 'cantonment', 'indian', 'independence', '1947', '.'], ['hyderabad', 'annexed', 'indian', 'union', '1948', 'continued', 'capital', 'hyderabad', 'state', '(', '1948–56', ')', '.'], ['introduction', 'state', 'reorganisation', 'act', '1956', ',', 'hyderabad', 'made', 'capital', 'newly', 'formed', 'andhra', 'pradesh', '.'], ['2014', ',', 'andhra', 'pradesh', 'bifurcated', 'form', 'telangana', 'hyderabad', 'became', 'joint', 'capital', 'two', 'state', 'transitional', 'arrangement', 'scheduled', 'end', '2024', '.'], ['since', '1956', ',', 'city', 'housed', 'winter', 'office', 'president', 'india', '.'], ['relic', 'qutb', 'shahi', 'nizam', 'rule', 'remain', 'visible', 'today', ';', 'charminar', 'come', 'symbolise', 'city', '.'], ['end', 'early', 'modern', 'era', ',', 'mughal', 'empire', 'declined', 'deccan', 'nizam', \"'s\", 'patronage', 'attracted', 'men', 'letter', 'various', 'part', 'world', '.'], ['amalgamation', 'local', 'migrated', 'artisan', 'originated', 'distinctive', 'culture', ',', 'city', 'emerged', 'significant', 'centre', 'oriental', 'culture', '.'], ['painting', ',', 'handicraft', ',', 'jewellery', ',', 'literature', ',', 'dialect', 'clothing', 'prominent', 'still', 'today', '.'], ['cuisine', ',', 'city', 'listed', 'unesco', 'creative', 'city', 'gastronomy', '.'], ['telugu', 'film', 'industry', 'based', 'city', 'country', \"'s\", 'second-largest', 'producer', 'motion', 'picture', '2012', '.'], ['19th', 'century', 'hyderabad', 'known', 'pearl', 'industry', 'nicknamed', '``', 'city', 'pearl', \"''\", ',', 'golconda', 'diamond', 'trading', 'centre', 'world', '.'], ['many', 'city', \"'s\", 'historical', 'traditional', 'bazaar', 'remain', 'open', '.'], ['hyderabad', \"'s\", 'central', 'location', 'deccan', 'plateau', 'western', 'ghat', ',', 'industrialisation', 'throughout', '20th', 'century', 'attracted', 'major', 'indian', 'research', ',', 'manufacturing', ',', 'educational', 'financial', 'institution', '.'], ['since', '1990s', ',', 'city', 'emerged', 'indian', 'hub', 'pharmaceutical', 'biotechnology', '.'], ['formation', 'special', 'economic', 'zone', 'hitec', 'city', 'dedicated', 'information', 'technology', 'encouraged', 'leading', 'multinationals', 'set', 'operation', 'hyderabad', '.']]\n"
          ]
        }
      ]
    },
    {
      "cell_type": "code",
      "source": [
        "import gensim"
      ],
      "metadata": {
        "id": "Sc8ySbEUrTph"
      },
      "execution_count": 186,
      "outputs": []
    },
    {
      "cell_type": "code",
      "source": [
        "from gensim import corpora"
      ],
      "metadata": {
        "id": "_IOrjkmtrXlt"
      },
      "execution_count": 169,
      "outputs": []
    },
    {
      "cell_type": "code",
      "source": [
        "dictionary = corpora.Dictionary(ptext)"
      ],
      "metadata": {
        "id": "eJBQVVu8rdup"
      },
      "execution_count": 187,
      "outputs": []
    },
    {
      "cell_type": "code",
      "source": [
        "doc_term_matrix = [dictionary.doc2bow(doc) for doc in ptext]"
      ],
      "metadata": {
        "id": "J53keJyoyXP6"
      },
      "execution_count": 188,
      "outputs": []
    },
    {
      "cell_type": "code",
      "source": [
        "LDA = gensim.models.ldamodel.LdaModel"
      ],
      "metadata": {
        "id": "4V2m-VR788lO"
      },
      "execution_count": 189,
      "outputs": []
    },
    {
      "cell_type": "code",
      "source": [
        "Lda_Model = LDA(doc_term_matrix,num_topics=8,id2word=dictionary,passes=50)"
      ],
      "metadata": {
        "id": "SEATVjoX9KTI"
      },
      "execution_count": 190,
      "outputs": []
    },
    {
      "cell_type": "code",
      "source": [
        "Lda_Model.print_topics()"
      ],
      "metadata": {
        "colab": {
          "base_uri": "https://localhost:8080/"
        },
        "id": "UOzZdn5b9lsc",
        "outputId": "ada8b250-3a02-468b-8bab-e3993057c799"
      },
      "execution_count": 191,
      "outputs": [
        {
          "output_type": "execute_result",
          "data": {
            "text/plain": [
              "[(0,\n",
              "  '0.004*\"river\" + 0.004*\"occupies\" + 0.004*\"]\" + 0.004*\"musi\" + 0.004*\"india\" + 0.004*\",\" + 0.004*\"km2\" + 0.004*\"250\" + 0.004*\"deccan\" + 0.004*\"(\"'),\n",
              " (1,\n",
              "  '0.072*\",\" + 0.058*\"city\" + 0.030*\"lake\" + 0.030*\".\" + 0.016*\"\\'s\" + 0.016*\"centre\" + 0.016*\")\" + 0.016*\"(\" + 0.016*\"hyderabad\" + 0.016*\"listed\"'),\n",
              " (2,\n",
              "  '0.046*\"]\" + 0.046*\"[\" + 0.035*\"(\" + 0.035*\")\" + 0.024*\".\" + 0.024*\",\" + 0.024*\"city\" + 0.024*\"hyderabad\" + 0.024*\"capital\" + 0.024*\"pearl\"'),\n",
              " (3,\n",
              "  '0.047*\"city\" + 0.047*\",\" + 0.036*\"india\" + 0.036*\".\" + 0.024*\"population\" + 0.024*\"populous\" + 0.024*\"metropolitan\" + 0.024*\"resident\" + 0.024*\"million\" + 0.024*\"culture\"'),\n",
              " (4,\n",
              "  '0.061*\",\" + 0.037*\".\" + 0.025*\"\\'s\" + 0.025*\"deccan\" + 0.025*\"indian\" + 0.025*\"attracted\" + 0.013*\"since\" + 0.013*\"plateau\" + 0.013*\"part\" + 0.013*\"mughal\"'),\n",
              " (5,\n",
              "  '0.082*\",\" + 0.057*\".\" + 0.025*\"india\" + 0.025*\"city\" + 0.017*\"asaf\" + 0.017*\"nizam\" + 0.017*\"today\" + 0.009*\"winter\" + 0.009*\"office\" + 0.009*\"president\"'),\n",
              " (6,\n",
              "  '0.045*\".\" + 0.031*\"city\" + 0.031*\"hyderabad\" + 0.016*\"1948\" + 0.016*\"industry\" + 0.016*\"based\" + 0.016*\"imperial\" + 0.016*\"1769\" + 0.016*\"picture\" + 0.016*\"2012\"'),\n",
              " (7,\n",
              "  '0.059*\"hyderabad\" + 0.049*\"capital\" + 0.049*\".\" + 0.040*\"state\" + 0.030*\",\" + 0.020*\"andhra\" + 0.020*\"pradesh\" + 0.020*\"indian\" + 0.011*\"annexed\" + 0.011*\"1956\"')]"
            ]
          },
          "metadata": {},
          "execution_count": 191
        }
      ]
    }
  ]
}