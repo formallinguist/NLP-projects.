{
  "nbformat": 4,
  "nbformat_minor": 0,
  "metadata": {
    "colab": {
      "name": "Topic modelling.ipynb",
      "provenance": [],
      "authorship_tag": "ABX9TyPjRTDkyAjDWRDF1iY2Pwiv",
      "include_colab_link": true
    },
    "kernelspec": {
      "name": "python3",
      "display_name": "Python 3"
    },
    "language_info": {
      "name": "python"
    }
  },
  "cells": [
    {
      "cell_type": "markdown",
      "metadata": {
        "id": "view-in-github",
        "colab_type": "text"
      },
      "source": [
        "<a href=\"https://colab.research.google.com/github/formallinguist/NLP-projects./blob/main/Topic_modelling.ipynb\" target=\"_parent\"><img src=\"https://colab.research.google.com/assets/colab-badge.svg\" alt=\"Open In Colab\"/></a>"
      ]
    },
    {
      "cell_type": "markdown",
      "source": [
        "Topic modelling : from the given data, we have to see what the document is talking about. It is an unsupravised learning."
      ],
      "metadata": {
        "id": "JvryrCKuHvTF"
      }
    },
    {
      "cell_type": "markdown",
      "source": [
        "-unsupravised learning.\n",
        "it could be done by LSA,PLSA,LDA."
      ],
      "metadata": {
        "id": "4n_L8y77IBQV"
      }
    },
    {
      "cell_type": "code",
      "source": [
        "from nltk.tokenize import word_tokenize"
      ],
      "metadata": {
        "id": "MkZuE8XdIeOi"
      },
      "execution_count": 33,
      "outputs": []
    },
    {
      "cell_type": "code",
      "source": [
        "from nltk.corpus import stopwords"
      ],
      "metadata": {
        "id": "2UFD2BK22qnf"
      },
      "execution_count": 34,
      "outputs": []
    },
    {
      "cell_type": "code",
      "source": [
        "from nltk.tokenize import sent_tokenize"
      ],
      "metadata": {
        "id": "cmOJGkqPA4r1"
      },
      "execution_count": 35,
      "outputs": []
    },
    {
      "cell_type": "code",
      "source": [
        "data = '''Hyderabad (/ˈhaɪdərəbæd/ (audio speaker iconlisten) HY-dər-ə-bad;[6] Telugu: [ˈɦaɪ̯daraːbaːd], Urdu: [ˈɦɛːdəɾaːbaːd]) is the capital and largest city of the Indian state of Telangana and the de jure capital of Andhra Pradesh.[A] It occupies 650 km2 (250 sq mi) on the Deccan Plateau along the banks of the Musi River, in the northern part of South India. With an average altitude of 542 m (1,778 ft), much of Hyderabad is situated on hilly terrain around artificial lakes, including the Hussain Sagar lake, predating the city's founding, in the north of the city centre. According to the 2011 Census of India, Hyderabad is the fourth-most populous city in India with a population of 6.9 million residents within the city limits, and has a population of 9.7 million residents in the metropolitan region, making it the sixth-most populous metropolitan area in India. With an output of US$74 billion, Hyderabad has the fifth-largest urban economy in India.\n",
        "\n",
        "Muhammad Quli Qutb Shah established Hyderabad in 1591 to extend the capital beyond the fortified Golconda. In 1687, the city was annexed by the Mughals. In 1724, Mughal Viceroy Nizam Asaf Jah I declared his sovereignty and founded the Asaf Jahi dynasty, also known as the Nizams. Hyderabad served as the imperial capital of the Asaf Jahis from 1769 to 1948. As capital of the princely state of Hyderabad, the city housed the British Residency and cantonment until Indian independence in 1947. Hyderabad was annexed by the Indian Union in 1948 and continued as a capital of Hyderabad State (1948–56). After the introduction of the States Reorganisation Act of 1956, Hyderabad was made the capital of the newly formed Andhra Pradesh. In 2014, Andhra Pradesh was bifurcated to form Telangana and Hyderabad became the joint capital of the two states with a transitional arrangement scheduled to end in 2024. Since 1956, the city has housed the winter office of the President of India.\n",
        "\n",
        "Relics of the Qutb Shahi and Nizam rules remain visible today; the Charminar has come to symbolise the city. By the end of early modern era, the Mughal Empire declined in the Deccan and the Nizam's patronage had attracted men of letters from various parts of the world. The amalgamation of local and migrated artisans had originated a distinctive culture, and the city emerged as a significant centre of oriental culture. Painting, handicraft, jewellery, literature, dialect and clothing are prominent still today. Through its cuisine, the city is listed as a UNESCO creative city of gastronomy. The Telugu film industry based in the city was the country's second-largest producer of motion pictures as of 2012.\n",
        "\n",
        "Until the 19th century Hyderabad was known for the pearl industry and was nicknamed the \"City of Pearls\", and was the only Golconda Diamonds trading centre in the world. Many of the city's historical and traditional bazaars remain open. Hyderabad's central location between the Deccan Plateau and the Western Ghats, and industrialisation throughout the 20th century attracted major Indian research, manufacturing, educational and financial institutions. Since the 1990s, the city has emerged as an Indian hub of pharmaceuticals and biotechnology. The formation of special economic zones and HITEC City dedicated to information technology has encouraged leading multinationals to set up operations in Hyderabad.'''"
      ],
      "metadata": {
        "id": "jocVA_N_Uz8a"
      },
      "execution_count": 62,
      "outputs": []
    },
    {
      "cell_type": "code",
      "source": [
        "import nltk\n",
        "nltk.download('punkt')"
      ],
      "metadata": {
        "id": "aYLeOaJawPze",
        "outputId": "4cd00940-8adb-4dff-cd1d-cd385f73beed",
        "colab": {
          "base_uri": "https://localhost:8080/"
        }
      },
      "execution_count": 63,
      "outputs": [
        {
          "output_type": "stream",
          "name": "stdout",
          "text": [
            "[nltk_data] Downloading package punkt to /root/nltk_data...\n",
            "[nltk_data]   Package punkt is already up-to-date!\n"
          ]
        },
        {
          "output_type": "execute_result",
          "data": {
            "text/plain": [
              "True"
            ]
          },
          "metadata": {},
          "execution_count": 63
        }
      ]
    },
    {
      "cell_type": "code",
      "source": [
        "nltk.download ('stopwords')"
      ],
      "metadata": {
        "id": "fijZQkSewbPL",
        "outputId": "808eac61-56be-4c72-f183-4eba94e19eee",
        "colab": {
          "base_uri": "https://localhost:8080/"
        }
      },
      "execution_count": 64,
      "outputs": [
        {
          "output_type": "stream",
          "name": "stdout",
          "text": [
            "[nltk_data] Downloading package stopwords to /root/nltk_data...\n",
            "[nltk_data]   Package stopwords is already up-to-date!\n"
          ]
        },
        {
          "output_type": "execute_result",
          "data": {
            "text/plain": [
              "True"
            ]
          },
          "metadata": {},
          "execution_count": 64
        }
      ]
    },
    {
      "cell_type": "code",
      "source": [
        "Text = sent_tokenize(data)"
      ],
      "metadata": {
        "id": "lzUtJ-W-BfsG"
      },
      "execution_count": 80,
      "outputs": []
    },
    {
      "cell_type": "code",
      "source": [
        "from nltk.stem import WordNetLemmatizer\n",
        "word_lemmatizer = WordNetLemmatizer()"
      ],
      "metadata": {
        "id": "XOnE87_bDTNY"
      },
      "execution_count": 78,
      "outputs": []
    },
    {
      "cell_type": "code",
      "source": [
        "nltk.download('wordnet')"
      ],
      "metadata": {
        "id": "ViEYwdXaDdGH",
        "outputId": "c8c2e118-b72d-4561-e882-b722a6581e4c",
        "colab": {
          "base_uri": "https://localhost:8080/"
        }
      },
      "execution_count": 79,
      "outputs": [
        {
          "output_type": "stream",
          "name": "stdout",
          "text": [
            "[nltk_data] Downloading package wordnet to /root/nltk_data...\n",
            "[nltk_data]   Package wordnet is already up-to-date!\n"
          ]
        },
        {
          "output_type": "execute_result",
          "data": {
            "text/plain": [
              "True"
            ]
          },
          "metadata": {},
          "execution_count": 79
        }
      ]
    },
    {
      "cell_type": "code",
      "source": [
        "def preprocess(document):\n",
        "  document = document.lower()\n",
        "  words = word_tokenize(document)\n",
        "  words = [word for word in words if word not in stopwords.words('english')]\n",
        "  words = [word_lemmatizer.lemmatize(word,pos='v') for word in words]\n",
        "  document = \" \".join(words)\n",
        "  return document"
      ],
      "metadata": {
        "id": "bw4zAvAb22KM"
      },
      "execution_count": 82,
      "outputs": []
    },
    {
      "cell_type": "code",
      "source": [
        "ptext = [preprocess(document).split() for document in Text]"
      ],
      "metadata": {
        "id": "f3OsvnLk3YUu"
      },
      "execution_count": 83,
      "outputs": []
    },
    {
      "cell_type": "code",
      "source": [
        "print(ptext)"
      ],
      "metadata": {
        "colab": {
          "base_uri": "https://localhost:8080/"
        },
        "id": "4DlTVi1G3pEb",
        "outputId": "8c6f81fc-c019-4258-c3e3-b99210de905d"
      },
      "execution_count": 84,
      "outputs": [
        {
          "output_type": "stream",
          "name": "stdout",
          "text": [
            "[['hyderabad', '(', '/ˈhaɪdərəbæd/', '(', 'audio', 'speaker', 'iconlisten', ')', 'hy-dər-ə-bad', ';', '[', '6', ']', 'telugu', ':', '[', 'ˈɦaɪ̯daraːbaːd', ']', ',', 'urdu', ':', '[', 'ˈɦɛːdəɾaːbaːd', ']', ')', 'capital', 'largest', 'city', 'indian', 'state', 'telangana', 'de', 'jure', 'capital', 'andhra', 'pradesh', '.'], ['[', ']', 'occupy', '650', 'km2', '(', '250', 'sq', 'mi', ')', 'deccan', 'plateau', 'along', 'bank', 'musi', 'river', ',', 'northern', 'part', 'south', 'india', '.'], ['average', 'altitude', '542', '(', '1,778', 'ft', ')', ',', 'much', 'hyderabad', 'situate', 'hilly', 'terrain', 'around', 'artificial', 'lakes', ',', 'include', 'hussain', 'sagar', 'lake', ',', 'predate', 'city', \"'s\", 'found', ',', 'north', 'city', 'centre', '.'], ['accord', '2011', 'census', 'india', ',', 'hyderabad', 'fourth-most', 'populous', 'city', 'india', 'population', '6.9', 'million', 'residents', 'within', 'city', 'limit', ',', 'population', '9.7', 'million', 'residents', 'metropolitan', 'region', ',', 'make', 'sixth-most', 'populous', 'metropolitan', 'area', 'india', '.'], ['output', 'us', '$', '74', 'billion', ',', 'hyderabad', 'fifth-largest', 'urban', 'economy', 'india', '.'], ['muhammad', 'quli', 'qutb', 'shah', 'establish', 'hyderabad', '1591', 'extend', 'capital', 'beyond', 'fortify', 'golconda', '.'], ['1687', ',', 'city', 'annex', 'mughals', '.'], ['1724', ',', 'mughal', 'viceroy', 'nizam', 'asaf', 'jah', 'declare', 'sovereignty', 'found', 'asaf', 'jahi', 'dynasty', ',', 'also', 'know', 'nizams', '.'], ['hyderabad', 'serve', 'imperial', 'capital', 'asaf', 'jahis', '1769', '1948', '.'], ['capital', 'princely', 'state', 'hyderabad', ',', 'city', 'house', 'british', 'residency', 'cantonment', 'indian', 'independence', '1947', '.'], ['hyderabad', 'annex', 'indian', 'union', '1948', 'continue', 'capital', 'hyderabad', 'state', '(', '1948–56', ')', '.'], ['introduction', 'state', 'reorganisation', 'act', '1956', ',', 'hyderabad', 'make', 'capital', 'newly', 'form', 'andhra', 'pradesh', '.'], ['2014', ',', 'andhra', 'pradesh', 'bifurcate', 'form', 'telangana', 'hyderabad', 'become', 'joint', 'capital', 'two', 'state', 'transitional', 'arrangement', 'schedule', 'end', '2024', '.'], ['since', '1956', ',', 'city', 'house', 'winter', 'office', 'president', 'india', '.'], ['relics', 'qutb', 'shahi', 'nizam', 'rule', 'remain', 'visible', 'today', ';', 'charminar', 'come', 'symbolise', 'city', '.'], ['end', 'early', 'modern', 'era', ',', 'mughal', 'empire', 'decline', 'deccan', 'nizam', \"'s\", 'patronage', 'attract', 'men', 'letter', 'various', 'part', 'world', '.'], ['amalgamation', 'local', 'migrate', 'artisans', 'originate', 'distinctive', 'culture', ',', 'city', 'emerge', 'significant', 'centre', 'oriental', 'culture', '.'], ['paint', ',', 'handicraft', ',', 'jewellery', ',', 'literature', ',', 'dialect', 'clothe', 'prominent', 'still', 'today', '.'], ['cuisine', ',', 'city', 'list', 'unesco', 'creative', 'city', 'gastronomy', '.'], ['telugu', 'film', 'industry', 'base', 'city', 'country', \"'s\", 'second-largest', 'producer', 'motion', 'picture', '2012', '.'], ['19th', 'century', 'hyderabad', 'know', 'pearl', 'industry', 'nickname', '``', 'city', 'pearl', \"''\", ',', 'golconda', 'diamonds', 'trade', 'centre', 'world', '.'], ['many', 'city', \"'s\", 'historical', 'traditional', 'bazaars', 'remain', 'open', '.'], ['hyderabad', \"'s\", 'central', 'location', 'deccan', 'plateau', 'western', 'ghats', ',', 'industrialisation', 'throughout', '20th', 'century', 'attract', 'major', 'indian', 'research', ',', 'manufacture', ',', 'educational', 'financial', 'institutions', '.'], ['since', '1990s', ',', 'city', 'emerge', 'indian', 'hub', 'pharmaceuticals', 'biotechnology', '.'], ['formation', 'special', 'economic', 'zone', 'hitec', 'city', 'dedicate', 'information', 'technology', 'encourage', 'lead', 'multinationals', 'set', 'operations', 'hyderabad', '.']]\n"
          ]
        }
      ]
    },
    {
      "cell_type": "code",
      "source": [
        "import gensim"
      ],
      "metadata": {
        "id": "Sc8ySbEUrTph"
      },
      "execution_count": 85,
      "outputs": []
    },
    {
      "cell_type": "code",
      "source": [
        "from gensim import corpora"
      ],
      "metadata": {
        "id": "_IOrjkmtrXlt"
      },
      "execution_count": 86,
      "outputs": []
    },
    {
      "cell_type": "code",
      "source": [
        "dictionary = corpora.Dictionary(ptext)"
      ],
      "metadata": {
        "id": "eJBQVVu8rdup"
      },
      "execution_count": 87,
      "outputs": []
    },
    {
      "cell_type": "code",
      "source": [
        "doc_term_matrix = [dictionary.doc2bow(doc) for doc in ptext]"
      ],
      "metadata": {
        "id": "J53keJyoyXP6"
      },
      "execution_count": 88,
      "outputs": []
    },
    {
      "cell_type": "code",
      "source": [
        "LDA = gensim.models.ldamodel.LdaModel"
      ],
      "metadata": {
        "id": "4V2m-VR788lO"
      },
      "execution_count": 89,
      "outputs": []
    },
    {
      "cell_type": "code",
      "source": [
        "Lda_Model = LDA(doc_term_matrix,num_topics=8,id2word=dictionary,passes=50)"
      ],
      "metadata": {
        "id": "SEATVjoX9KTI"
      },
      "execution_count": 90,
      "outputs": []
    },
    {
      "cell_type": "code",
      "source": [
        "Lda_Model.print_topics()"
      ],
      "metadata": {
        "colab": {
          "base_uri": "https://localhost:8080/"
        },
        "id": "UOzZdn5b9lsc",
        "outputId": "c35c0ee2-1f01-4564-8325-296faf7432ea"
      },
      "execution_count": 91,
      "outputs": [
        {
          "output_type": "execute_result",
          "data": {
            "text/plain": [
              "[(0,\n",
              "  '0.046*\"]\" + 0.046*\"[\" + 0.035*\"(\" + 0.035*\")\" + 0.024*\"capital\" + 0.024*\".\" + 0.024*\":\" + 0.024*\",\" + 0.013*\"indian\" + 0.013*\"telugu\"'),\n",
              " (1,\n",
              "  '0.004*\"decline\" + 0.004*\"nizam\" + 0.004*\".\" + 0.004*\"early\" + 0.004*\",\" + 0.004*\"attract\" + 0.004*\"world\" + 0.004*\"men\" + 0.004*\"part\" + 0.004*\"empire\"'),\n",
              " (2,\n",
              "  '0.049*\",\" + 0.041*\"city\" + 0.041*\".\" + 0.033*\"india\" + 0.033*\"hyderabad\" + 0.017*\"centre\" + 0.017*\"culture\" + 0.017*\"pearl\" + 0.017*\"million\" + 0.017*\"population\"'),\n",
              " (3,\n",
              "  '0.049*\".\" + 0.049*\",\" + 0.041*\"hyderabad\" + 0.025*\"indian\" + 0.025*\"capital\" + 0.017*\"\\'s\" + 0.017*\"asaf\" + 0.017*\"state\" + 0.017*\"city\" + 0.009*\"house\"'),\n",
              " (4,\n",
              "  '0.028*\"1948\" + 0.028*\"asaf\" + 0.028*\"capital\" + 0.028*\"jahis\" + 0.028*\"serve\" + 0.028*\"1769\" + 0.028*\"imperial\" + 0.028*\"hyderabad\" + 0.028*\".\" + 0.003*\",\"'),\n",
              " (5,\n",
              "  '0.033*\"nizam\" + 0.033*\".\" + 0.018*\"remain\" + 0.018*\"qutb\" + 0.018*\"mughal\" + 0.018*\"\\'s\" + 0.018*\"deccan\" + 0.018*\"world\" + 0.018*\"end\" + 0.018*\"attract\"'),\n",
              " (6,\n",
              "  '0.066*\",\" + 0.049*\".\" + 0.041*\"city\" + 0.025*\"hyderabad\" + 0.017*\"state\" + 0.017*\"form\" + 0.017*\"1956\" + 0.017*\"since\" + 0.017*\"andhra\" + 0.017*\"pradesh\"'),\n",
              " (7,\n",
              "  '0.102*\",\" + 0.052*\"city\" + 0.052*\".\" + 0.019*\"annex\" + 0.019*\"today\" + 0.019*\"handicraft\" + 0.019*\"unesco\" + 0.019*\"clothe\" + 0.019*\"dialect\" + 0.019*\"prominent\"')]"
            ]
          },
          "metadata": {},
          "execution_count": 91
        }
      ]
    }
  ]
}