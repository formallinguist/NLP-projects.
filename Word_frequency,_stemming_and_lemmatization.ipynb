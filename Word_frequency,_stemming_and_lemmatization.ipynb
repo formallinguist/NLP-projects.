{
  "nbformat": 4,
  "nbformat_minor": 0,
  "metadata": {
    "colab": {
      "name": "Word frequency, stemming and lemmatization.ipynb",
      "provenance": [],
      "authorship_tag": "ABX9TyNgJGcfmW22EiF8z9zSMx+8",
      "include_colab_link": true
    },
    "kernelspec": {
      "name": "python3",
      "display_name": "Python 3"
    },
    "language_info": {
      "name": "python"
    }
  },
  "cells": [
    {
      "cell_type": "markdown",
      "metadata": {
        "id": "view-in-github",
        "colab_type": "text"
      },
      "source": [
        "<a href=\"https://colab.research.google.com/github/formallinguist/NLP-projects./blob/main/Word_frequency%2C_stemming_and_lemmatization.ipynb\" target=\"_parent\"><img src=\"https://colab.research.google.com/assets/colab-badge.svg\" alt=\"Open In Colab\"/></a>"
      ]
    },
    {
      "cell_type": "markdown",
      "source": [
        "WORD FREQUENCY\n"
      ],
      "metadata": {
        "id": "iSY5d-bIpEVS"
      }
    },
    {
      "cell_type": "code",
      "source": [
        "string = '''The earliest poetry is believed to have been recited or sung, employed as a way of remembering history, genealogy, and law.[14]\n",
        "\n",
        "In Asia, the transmission of folklore, mythologies as well as scriptures in ancient India, in different Indian religions, was by oral tradition, preserved with precision with the help of elaborate mnemonic techniques.[15]\n",
        "\n",
        "The early Buddhist texts are also generally believed to be of oral tradition, with the first by comparing inconsistencies in the transmitted versions of literature from various oral societies such as the Greek, Serbia and other cultures, then noting that the Vedic literature is too consistent and vast to have been composed and transmitted orally across generations, without being written down.[citation needed] According to Goody, the Vedic texts likely involved both a written and oral tradition, calling it a \"parallel products of a literate society\".[citation needed]\n",
        "\n",
        "Australian Aboriginal culture has thrived on oral traditions and oral histories passed down through thousands of years. In a study published in February 2020, new evidence showed that both Budj Bim and Tower Hill volcanoes erupted between 34,000 and 40,000 years ago.[16] Significantly, this is a \"minimum age constraint for human presence in Victoria\", and also could be interpreted as evidence for the oral histories of the Gunditjmara people, an Aboriginal Australian people of south-western Victoria, which tell of volcanic eruptions being some of the oldest oral traditions in existence.[17] An axe found underneath volcanic ash in 1947 had already proven that humans inhabited the region before the eruption of Tower Hill.[16]\n",
        "\n",
        "All ancient Greek literature was to some degree oral in nature, and the earliest literature was completely so.[18] Homer's epic poetry, states Michael Gagarin, was largely composed, performed and transmitted orally.[19] As folklores and legends were performed in front of distant audiences, the singers would substitute the names in the stories with local characters or rulers to give the stories a local flavor and thus connect with the audience, but making the historicity embedded in the oral tradition as unreliable.[20] The lack of surviving texts about the Greek and Roman religious traditions have led scholars to presume that these were ritualistic and transmitted as oral traditions, but some scholars disagree that the complex rituals in the ancient Greek and Roman civilizations were an exclusive product of an oral tradition.[21]\n",
        "\n",
        "Writing systems are not known to have existed among Native North Americans before contact with Europeans. Oral storytelling traditions flourished in a context without the use of writing to record and preserve history, scientific knowledge, and social practices.[22] While some stories were told for amusement and leisure, most functioned as practical lessons from tribal experience applied to immediate moral, social, psychological, and environmental issues.[23] Stories fuse fictional, supernatural, or otherwise exaggerated characters and circumstances with real emotions and morals as a means of teaching. Plots often reflect real life situations and may be aimed at particular people known by the story's audience. In this way, social pressure could be exerted without directly causing embarrassment or social exclusion.[24] For example, rather than yelling, Inuit parents might deter their children from wandering too close to the water's edge by telling a story about a sea monster with a pouch for children within its reach.[25]\n",
        "\n",
        "See also African literature#Oral literature'''"
      ],
      "metadata": {
        "id": "s-D7x-ALpHr4"
      },
      "execution_count": 1,
      "outputs": []
    },
    {
      "cell_type": "code",
      "source": [
        "from nltk import FreqDist"
      ],
      "metadata": {
        "id": "sSmqnX7gpp1G"
      },
      "execution_count": 2,
      "outputs": []
    },
    {
      "cell_type": "code",
      "source": [
        "from nltk.corpus import stopwords"
      ],
      "metadata": {
        "id": "qFstpGxnp0Zi"
      },
      "execution_count": 3,
      "outputs": []
    },
    {
      "cell_type": "code",
      "source": [
        "string = string.split()"
      ],
      "metadata": {
        "id": "306w5BH7qC5E"
      },
      "execution_count": 4,
      "outputs": []
    },
    {
      "cell_type": "code",
      "source": [
        "freq = FreqDist(string)"
      ],
      "metadata": {
        "id": "JGfvlMtqqMfr"
      },
      "execution_count": 6,
      "outputs": []
    },
    {
      "cell_type": "code",
      "source": [
        "freq.most_common(9)"
      ],
      "metadata": {
        "colab": {
          "base_uri": "https://localhost:8080/"
        },
        "id": "vr88b3Niqt1w",
        "outputId": "cae05ae4-09ac-4262-8c38-aef27f306479"
      },
      "execution_count": 8,
      "outputs": [
        {
          "output_type": "execute_result",
          "data": {
            "text/plain": [
              "[('the', 26),\n",
              " ('and', 23),\n",
              " ('of', 17),\n",
              " ('in', 13),\n",
              " ('a', 12),\n",
              " ('oral', 12),\n",
              " ('to', 11),\n",
              " ('as', 9),\n",
              " ('with', 8)]"
            ]
          },
          "metadata": {},
          "execution_count": 8
        }
      ]
    },
    {
      "cell_type": "code",
      "source": [
        "stopwords.words ('english')"
      ],
      "metadata": {
        "colab": {
          "base_uri": "https://localhost:8080/"
        },
        "id": "sdYo-9XRrN9x",
        "outputId": "a094c1ec-6066-4f8a-efae-0d46042b2d56"
      },
      "execution_count": 16,
      "outputs": [
        {
          "output_type": "execute_result",
          "data": {
            "text/plain": [
              "['i',\n",
              " 'me',\n",
              " 'my',\n",
              " 'myself',\n",
              " 'we',\n",
              " 'our',\n",
              " 'ours',\n",
              " 'ourselves',\n",
              " 'you',\n",
              " \"you're\",\n",
              " \"you've\",\n",
              " \"you'll\",\n",
              " \"you'd\",\n",
              " 'your',\n",
              " 'yours',\n",
              " 'yourself',\n",
              " 'yourselves',\n",
              " 'he',\n",
              " 'him',\n",
              " 'his',\n",
              " 'himself',\n",
              " 'she',\n",
              " \"she's\",\n",
              " 'her',\n",
              " 'hers',\n",
              " 'herself',\n",
              " 'it',\n",
              " \"it's\",\n",
              " 'its',\n",
              " 'itself',\n",
              " 'they',\n",
              " 'them',\n",
              " 'their',\n",
              " 'theirs',\n",
              " 'themselves',\n",
              " 'what',\n",
              " 'which',\n",
              " 'who',\n",
              " 'whom',\n",
              " 'this',\n",
              " 'that',\n",
              " \"that'll\",\n",
              " 'these',\n",
              " 'those',\n",
              " 'am',\n",
              " 'is',\n",
              " 'are',\n",
              " 'was',\n",
              " 'were',\n",
              " 'be',\n",
              " 'been',\n",
              " 'being',\n",
              " 'have',\n",
              " 'has',\n",
              " 'had',\n",
              " 'having',\n",
              " 'do',\n",
              " 'does',\n",
              " 'did',\n",
              " 'doing',\n",
              " 'a',\n",
              " 'an',\n",
              " 'the',\n",
              " 'and',\n",
              " 'but',\n",
              " 'if',\n",
              " 'or',\n",
              " 'because',\n",
              " 'as',\n",
              " 'until',\n",
              " 'while',\n",
              " 'of',\n",
              " 'at',\n",
              " 'by',\n",
              " 'for',\n",
              " 'with',\n",
              " 'about',\n",
              " 'against',\n",
              " 'between',\n",
              " 'into',\n",
              " 'through',\n",
              " 'during',\n",
              " 'before',\n",
              " 'after',\n",
              " 'above',\n",
              " 'below',\n",
              " 'to',\n",
              " 'from',\n",
              " 'up',\n",
              " 'down',\n",
              " 'in',\n",
              " 'out',\n",
              " 'on',\n",
              " 'off',\n",
              " 'over',\n",
              " 'under',\n",
              " 'again',\n",
              " 'further',\n",
              " 'then',\n",
              " 'once',\n",
              " 'here',\n",
              " 'there',\n",
              " 'when',\n",
              " 'where',\n",
              " 'why',\n",
              " 'how',\n",
              " 'all',\n",
              " 'any',\n",
              " 'both',\n",
              " 'each',\n",
              " 'few',\n",
              " 'more',\n",
              " 'most',\n",
              " 'other',\n",
              " 'some',\n",
              " 'such',\n",
              " 'no',\n",
              " 'nor',\n",
              " 'not',\n",
              " 'only',\n",
              " 'own',\n",
              " 'same',\n",
              " 'so',\n",
              " 'than',\n",
              " 'too',\n",
              " 'very',\n",
              " 's',\n",
              " 't',\n",
              " 'can',\n",
              " 'will',\n",
              " 'just',\n",
              " 'don',\n",
              " \"don't\",\n",
              " 'should',\n",
              " \"should've\",\n",
              " 'now',\n",
              " 'd',\n",
              " 'll',\n",
              " 'm',\n",
              " 'o',\n",
              " 're',\n",
              " 've',\n",
              " 'y',\n",
              " 'ain',\n",
              " 'aren',\n",
              " \"aren't\",\n",
              " 'couldn',\n",
              " \"couldn't\",\n",
              " 'didn',\n",
              " \"didn't\",\n",
              " 'doesn',\n",
              " \"doesn't\",\n",
              " 'hadn',\n",
              " \"hadn't\",\n",
              " 'hasn',\n",
              " \"hasn't\",\n",
              " 'haven',\n",
              " \"haven't\",\n",
              " 'isn',\n",
              " \"isn't\",\n",
              " 'ma',\n",
              " 'mightn',\n",
              " \"mightn't\",\n",
              " 'mustn',\n",
              " \"mustn't\",\n",
              " 'needn',\n",
              " \"needn't\",\n",
              " 'shan',\n",
              " \"shan't\",\n",
              " 'shouldn',\n",
              " \"shouldn't\",\n",
              " 'wasn',\n",
              " \"wasn't\",\n",
              " 'weren',\n",
              " \"weren't\",\n",
              " 'won',\n",
              " \"won't\",\n",
              " 'wouldn',\n",
              " \"wouldn't\"]"
            ]
          },
          "metadata": {},
          "execution_count": 16
        }
      ]
    },
    {
      "cell_type": "code",
      "source": [
        "import nltk"
      ],
      "metadata": {
        "id": "ooLzVrJ5rdor"
      },
      "execution_count": 10,
      "outputs": []
    },
    {
      "cell_type": "code",
      "source": [
        "nltk.download('stopwords')"
      ],
      "metadata": {
        "colab": {
          "base_uri": "https://localhost:8080/"
        },
        "id": "BFx5wTgCrhcl",
        "outputId": "e701e5bb-5ad5-4cb7-ebab-af9ac38103d4"
      },
      "execution_count": 11,
      "outputs": [
        {
          "output_type": "stream",
          "name": "stdout",
          "text": [
            "[nltk_data] Downloading package stopwords to /root/nltk_data...\n",
            "[nltk_data]   Unzipping corpora/stopwords.zip.\n"
          ]
        },
        {
          "output_type": "execute_result",
          "data": {
            "text/plain": [
              "True"
            ]
          },
          "metadata": {},
          "execution_count": 11
        }
      ]
    },
    {
      "cell_type": "code",
      "source": [
        "True"
      ],
      "metadata": {
        "colab": {
          "base_uri": "https://localhost:8080/"
        },
        "id": "M0GyBsvxrqkJ",
        "outputId": "c4fb9bbc-08c9-4edf-8b92-13c71bcf6adb"
      },
      "execution_count": 12,
      "outputs": [
        {
          "output_type": "execute_result",
          "data": {
            "text/plain": [
              "True"
            ]
          },
          "metadata": {},
          "execution_count": 12
        }
      ]
    },
    {
      "cell_type": "code",
      "source": [
        "no_Stopwords =[]\n",
        "for word in string:\n",
        "  if word not in stopwords.words('english'):\n",
        "    no_Stopwords.append(word)"
      ],
      "metadata": {
        "id": "GvWfBeaLshqs"
      },
      "execution_count": 17,
      "outputs": []
    },
    {
      "cell_type": "code",
      "source": [
        "print (no_Stopwords)"
      ],
      "metadata": {
        "colab": {
          "base_uri": "https://localhost:8080/"
        },
        "id": "AsLeWLvWtDTh",
        "outputId": "6336e281-a45f-4182-9bd9-24ed5a2b37c9"
      },
      "execution_count": 19,
      "outputs": [
        {
          "output_type": "stream",
          "name": "stdout",
          "text": [
            "['The', 'earliest', 'poetry', 'believed', 'recited', 'sung,', 'employed', 'way', 'remembering', 'history,', 'genealogy,', 'law.[14]', 'In', 'Asia,', 'transmission', 'folklore,', 'mythologies', 'well', 'scriptures', 'ancient', 'India,', 'different', 'Indian', 'religions,', 'oral', 'tradition,', 'preserved', 'precision', 'help', 'elaborate', 'mnemonic', 'techniques.[15]', 'The', 'early', 'Buddhist', 'texts', 'also', 'generally', 'believed', 'oral', 'tradition,', 'first', 'comparing', 'inconsistencies', 'transmitted', 'versions', 'literature', 'various', 'oral', 'societies', 'Greek,', 'Serbia', 'cultures,', 'noting', 'Vedic', 'literature', 'consistent', 'vast', 'composed', 'transmitted', 'orally', 'across', 'generations,', 'without', 'written', 'down.[citation', 'needed]', 'According', 'Goody,', 'Vedic', 'texts', 'likely', 'involved', 'written', 'oral', 'tradition,', 'calling', '\"parallel', 'products', 'literate', 'society\".[citation', 'needed]', 'Australian', 'Aboriginal', 'culture', 'thrived', 'oral', 'traditions', 'oral', 'histories', 'passed', 'thousands', 'years.', 'In', 'study', 'published', 'February', '2020,', 'new', 'evidence', 'showed', 'Budj', 'Bim', 'Tower', 'Hill', 'volcanoes', 'erupted', '34,000', '40,000', 'years', 'ago.[16]', 'Significantly,', '\"minimum', 'age', 'constraint', 'human', 'presence', 'Victoria\",', 'also', 'could', 'interpreted', 'evidence', 'oral', 'histories', 'Gunditjmara', 'people,', 'Aboriginal', 'Australian', 'people', 'south-western', 'Victoria,', 'tell', 'volcanic', 'eruptions', 'oldest', 'oral', 'traditions', 'existence.[17]', 'An', 'axe', 'found', 'underneath', 'volcanic', 'ash', '1947', 'already', 'proven', 'humans', 'inhabited', 'region', 'eruption', 'Tower', 'Hill.[16]', 'All', 'ancient', 'Greek', 'literature', 'degree', 'oral', 'nature,', 'earliest', 'literature', 'completely', 'so.[18]', \"Homer's\", 'epic', 'poetry,', 'states', 'Michael', 'Gagarin,', 'largely', 'composed,', 'performed', 'transmitted', 'orally.[19]', 'As', 'folklores', 'legends', 'performed', 'front', 'distant', 'audiences,', 'singers', 'would', 'substitute', 'names', 'stories', 'local', 'characters', 'rulers', 'give', 'stories', 'local', 'flavor', 'thus', 'connect', 'audience,', 'making', 'historicity', 'embedded', 'oral', 'tradition', 'unreliable.[20]', 'The', 'lack', 'surviving', 'texts', 'Greek', 'Roman', 'religious', 'traditions', 'led', 'scholars', 'presume', 'ritualistic', 'transmitted', 'oral', 'traditions,', 'scholars', 'disagree', 'complex', 'rituals', 'ancient', 'Greek', 'Roman', 'civilizations', 'exclusive', 'product', 'oral', 'tradition.[21]', 'Writing', 'systems', 'known', 'existed', 'among', 'Native', 'North', 'Americans', 'contact', 'Europeans.', 'Oral', 'storytelling', 'traditions', 'flourished', 'context', 'without', 'use', 'writing', 'record', 'preserve', 'history,', 'scientific', 'knowledge,', 'social', 'practices.[22]', 'While', 'stories', 'told', 'amusement', 'leisure,', 'functioned', 'practical', 'lessons', 'tribal', 'experience', 'applied', 'immediate', 'moral,', 'social,', 'psychological,', 'environmental', 'issues.[23]', 'Stories', 'fuse', 'fictional,', 'supernatural,', 'otherwise', 'exaggerated', 'characters', 'circumstances', 'real', 'emotions', 'morals', 'means', 'teaching.', 'Plots', 'often', 'reflect', 'real', 'life', 'situations', 'may', 'aimed', 'particular', 'people', 'known', \"story's\", 'audience.', 'In', 'way,', 'social', 'pressure', 'could', 'exerted', 'without', 'directly', 'causing', 'embarrassment', 'social', 'exclusion.[24]', 'For', 'example,', 'rather', 'yelling,', 'Inuit', 'parents', 'might', 'deter', 'children', 'wandering', 'close', \"water's\", 'edge', 'telling', 'story', 'sea', 'monster', 'pouch', 'children', 'within', 'reach.[25]', 'See', 'also', 'African', 'literature#Oral', 'literature']\n"
          ]
        }
      ]
    },
    {
      "cell_type": "code",
      "source": [
        "freq = FreqDist(no_Stopwords)"
      ],
      "metadata": {
        "id": "UJ4LiAp6uDxM"
      },
      "execution_count": 20,
      "outputs": []
    },
    {
      "cell_type": "code",
      "source": [
        "freq.most_common(9)"
      ],
      "metadata": {
        "colab": {
          "base_uri": "https://localhost:8080/"
        },
        "id": "kxKnU9GItySH",
        "outputId": "715f5c62-ba17-45f6-fff7-a4a8e3c50ec6"
      },
      "execution_count": 22,
      "outputs": [
        {
          "output_type": "execute_result",
          "data": {
            "text/plain": [
              "[('oral', 12),\n",
              " ('literature', 5),\n",
              " ('transmitted', 4),\n",
              " ('traditions', 4),\n",
              " ('The', 3),\n",
              " ('In', 3),\n",
              " ('ancient', 3),\n",
              " ('tradition,', 3),\n",
              " ('texts', 3)]"
            ]
          },
          "metadata": {},
          "execution_count": 22
        }
      ]
    },
    {
      "cell_type": "code",
      "source": [
        "Sentence = '''Fill the online form available on the Examination Portal on DU web site for the said purpose.\n",
        "Upload the soft-copy of photograph and scanned signature.Upload the self-attested copy of Final Year Mark sheet.'''"
      ],
      "metadata": {
        "id": "aLrTFdYaujLq"
      },
      "execution_count": 23,
      "outputs": []
    },
    {
      "cell_type": "code",
      "source": [
        "from nltk.tokenize import sent_tokenize"
      ],
      "metadata": {
        "id": "oplnCShV1tPB"
      },
      "execution_count": 24,
      "outputs": []
    },
    {
      "cell_type": "code",
      "source": [
        "sent_tokenize(Sentence)"
      ],
      "metadata": {
        "colab": {
          "base_uri": "https://localhost:8080/"
        },
        "id": "xzmrjNSJ1-MD",
        "outputId": "09461c7b-13c8-414d-9d31-f16350bbb956"
      },
      "execution_count": 27,
      "outputs": [
        {
          "output_type": "execute_result",
          "data": {
            "text/plain": [
              "['Fill the online form available on the Examination Portal on DU web site for the said purpose.',\n",
              " 'Upload the soft-copy of photograph and scanned signature.Upload the self-attested copy of Final Year Mark sheet.']"
            ]
          },
          "metadata": {},
          "execution_count": 27
        }
      ]
    },
    {
      "cell_type": "code",
      "source": [
        " nltk.download('punkt')"
      ],
      "metadata": {
        "colab": {
          "base_uri": "https://localhost:8080/"
        },
        "id": "8zMl3fpk2MZD",
        "outputId": "34329eca-f07d-413b-f82e-7f9d9c42b896"
      },
      "execution_count": 26,
      "outputs": [
        {
          "output_type": "stream",
          "name": "stdout",
          "text": [
            "[nltk_data] Downloading package punkt to /root/nltk_data...\n",
            "[nltk_data]   Unzipping tokenizers/punkt.zip.\n"
          ]
        },
        {
          "output_type": "execute_result",
          "data": {
            "text/plain": [
              "True"
            ]
          },
          "metadata": {},
          "execution_count": 26
        }
      ]
    },
    {
      "cell_type": "code",
      "source": [
        "from nltk.tokenize import word_tokenize"
      ],
      "metadata": {
        "id": "MisWIqzl3BE5"
      },
      "execution_count": 40,
      "outputs": []
    },
    {
      "cell_type": "code",
      "source": [
        "word_tokenize(Sentence)"
      ],
      "metadata": {
        "colab": {
          "base_uri": "https://localhost:8080/"
        },
        "id": "PQVht7BQ2qzF",
        "outputId": "384fb141-df27-4410-84af-c92b55925b64"
      },
      "execution_count": 41,
      "outputs": [
        {
          "output_type": "execute_result",
          "data": {
            "text/plain": [
              "['Fill',\n",
              " 'the',\n",
              " 'online',\n",
              " 'form',\n",
              " 'available',\n",
              " 'on',\n",
              " 'the',\n",
              " 'Examination',\n",
              " 'Portal',\n",
              " 'on',\n",
              " 'DU',\n",
              " 'web',\n",
              " 'site',\n",
              " 'for',\n",
              " 'the',\n",
              " 'said',\n",
              " 'purpose',\n",
              " '.',\n",
              " 'Upload',\n",
              " 'the',\n",
              " 'soft-copy',\n",
              " 'of',\n",
              " 'photograph',\n",
              " 'and',\n",
              " 'scanned',\n",
              " 'signature.Upload',\n",
              " 'the',\n",
              " 'self-attested',\n",
              " 'copy',\n",
              " 'of',\n",
              " 'Final',\n",
              " 'Year',\n",
              " 'Mark',\n",
              " 'sheet',\n",
              " '.']"
            ]
          },
          "metadata": {},
          "execution_count": 41
        }
      ]
    },
    {
      "cell_type": "code",
      "source": [
        "word_tokens = word_tokenize(Sentence)"
      ],
      "metadata": {
        "id": "kw8ylZ4C9yK9"
      },
      "execution_count": 42,
      "outputs": []
    },
    {
      "cell_type": "code",
      "source": [
        "print(word_tokens)"
      ],
      "metadata": {
        "colab": {
          "base_uri": "https://localhost:8080/"
        },
        "id": "MJeDLWx19l0r",
        "outputId": "ef1d2cb7-ef74-4794-f879-c583b2408f52"
      },
      "execution_count": 43,
      "outputs": [
        {
          "output_type": "stream",
          "name": "stdout",
          "text": [
            "['Fill', 'the', 'online', 'form', 'available', 'on', 'the', 'Examination', 'Portal', 'on', 'DU', 'web', 'site', 'for', 'the', 'said', 'purpose', '.', 'Upload', 'the', 'soft-copy', 'of', 'photograph', 'and', 'scanned', 'signature.Upload', 'the', 'self-attested', 'copy', 'of', 'Final', 'Year', 'Mark', 'sheet', '.']\n"
          ]
        }
      ]
    },
    {
      "cell_type": "code",
      "source": [
        "len(word_tokens)"
      ],
      "metadata": {
        "colab": {
          "base_uri": "https://localhost:8080/"
        },
        "id": "J9xkWlT19X5K",
        "outputId": "338d0574-c560-4af9-8353-1e584589ec6e"
      },
      "execution_count": 44,
      "outputs": [
        {
          "output_type": "execute_result",
          "data": {
            "text/plain": [
              "35"
            ]
          },
          "metadata": {},
          "execution_count": 44
        }
      ]
    },
    {
      "cell_type": "markdown",
      "source": [
        "STEMMING AND LEMMATIZATION."
      ],
      "metadata": {
        "id": "hcUfd7QY-NUi"
      }
    },
    {
      "cell_type": "markdown",
      "source": [
        "STEMMING:REMOVES THE AFFIXES.\n",
        "LEMMATIZATION: FINDS THE GRAMMATICAL ROOT WORDS."
      ],
      "metadata": {
        "id": "4IxOwn_7_oY6"
      }
    },
    {
      "cell_type": "code",
      "source": [
        "from nltk.stem.porter import PorterStemmer"
      ],
      "metadata": {
        "id": "kidfh8cV-Tnl"
      },
      "execution_count": 45,
      "outputs": []
    },
    {
      "cell_type": "code",
      "source": [
        "from nltk.stem.snowball import SnowballStemmer"
      ],
      "metadata": {
        "id": "RnWzd13MAEYo"
      },
      "execution_count": 46,
      "outputs": []
    },
    {
      "cell_type": "code",
      "source": [
        "stemmer = PorterStemmer()"
      ],
      "metadata": {
        "id": "0tkLJKBAARJQ"
      },
      "execution_count": 50,
      "outputs": []
    },
    {
      "cell_type": "code",
      "source": [
        "stemmer.stem('flying')"
      ],
      "metadata": {
        "colab": {
          "base_uri": "https://localhost:8080/",
          "height": 37
        },
        "id": "rf2WRKXAAd5j",
        "outputId": "3e5b006f-4225-4856-f278-1b50ce7a3d70"
      },
      "execution_count": 58,
      "outputs": [
        {
          "output_type": "execute_result",
          "data": {
            "application/vnd.google.colaboratory.intrinsic+json": {
              "type": "string"
            },
            "text/plain": [
              "'fli'"
            ]
          },
          "metadata": {},
          "execution_count": 58
        }
      ]
    },
    {
      "cell_type": "code",
      "source": [
        "from nltk.stem import WordNetLemmatizer\n",
        "import nltk\n",
        "nltk.download('wordnet')"
      ],
      "metadata": {
        "colab": {
          "base_uri": "https://localhost:8080/"
        },
        "id": "dAysWaKOA3q2",
        "outputId": "734d34f1-c4b7-4afd-b103-9f64f0684839"
      },
      "execution_count": 55,
      "outputs": [
        {
          "output_type": "stream",
          "name": "stdout",
          "text": [
            "[nltk_data] Downloading package wordnet to /root/nltk_data...\n",
            "[nltk_data]   Unzipping corpora/wordnet.zip.\n"
          ]
        },
        {
          "output_type": "execute_result",
          "data": {
            "text/plain": [
              "True"
            ]
          },
          "metadata": {},
          "execution_count": 55
        }
      ]
    },
    {
      "cell_type": "code",
      "source": [
        "word_lemmatizer = WordNetLemmatizer()"
      ],
      "metadata": {
        "id": "rCR_hvqbB6VB"
      },
      "execution_count": 56,
      "outputs": []
    },
    {
      "cell_type": "code",
      "source": [
        "word_lemmatizer.lemmatize('flying', pos='v')"
      ],
      "metadata": {
        "colab": {
          "base_uri": "https://localhost:8080/",
          "height": 37
        },
        "id": "XAGxwycVCKo5",
        "outputId": "2dcf3f0f-ddc9-46c4-93dd-8e09af113905"
      },
      "execution_count": 57,
      "outputs": [
        {
          "output_type": "execute_result",
          "data": {
            "application/vnd.google.colaboratory.intrinsic+json": {
              "type": "string"
            },
            "text/plain": [
              "'fly'"
            ]
          },
          "metadata": {},
          "execution_count": 57
        }
      ]
    }
  ]
}