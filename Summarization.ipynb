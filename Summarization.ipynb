{
  "cells": [
    {
      "cell_type": "markdown",
      "metadata": {
        "id": "view-in-github",
        "colab_type": "text"
      },
      "source": [
        "<a href=\"https://colab.research.google.com/github/formallinguist/NLP-projects./blob/main/Summarization.ipynb\" target=\"_parent\"><img src=\"https://colab.research.google.com/assets/colab-badge.svg\" alt=\"Open In Colab\"/></a>"
      ]
    },
    {
      "cell_type": "markdown",
      "metadata": {
        "id": "4cbgwZWWfWpp"
      },
      "source": [
        "Extractive summarization.\n",
        "#{inputDoc->weightage sentence -> higher rank}\n",
        "\n",
        "\n",
        "ABSTRACTIVE SUMMARIZATION:\n",
        "#{inputdoc-> understand context -> forms a new word or sentence->summary.}\n",
        "\n"
      ]
    },
    {
      "cell_type": "code",
      "source": [
        "pip install spacy"
      ],
      "metadata": {
        "colab": {
          "base_uri": "https://localhost:8080/"
        },
        "id": "AMW0erbRzBd0",
        "outputId": "0b638e1f-95c9-43b4-9a85-9176305227fa"
      },
      "execution_count": 6,
      "outputs": [
        {
          "output_type": "stream",
          "name": "stdout",
          "text": [
            "Requirement already satisfied: spacy in /usr/local/lib/python3.7/dist-packages (2.2.4)\n",
            "Requirement already satisfied: numpy>=1.15.0 in /usr/local/lib/python3.7/dist-packages (from spacy) (1.19.5)\n",
            "Requirement already satisfied: murmurhash<1.1.0,>=0.28.0 in /usr/local/lib/python3.7/dist-packages (from spacy) (1.0.6)\n",
            "Requirement already satisfied: cymem<2.1.0,>=2.0.2 in /usr/local/lib/python3.7/dist-packages (from spacy) (2.0.6)\n",
            "Requirement already satisfied: catalogue<1.1.0,>=0.0.7 in /usr/local/lib/python3.7/dist-packages (from spacy) (1.0.0)\n",
            "Requirement already satisfied: tqdm<5.0.0,>=4.38.0 in /usr/local/lib/python3.7/dist-packages (from spacy) (4.62.3)\n",
            "Requirement already satisfied: plac<1.2.0,>=0.9.6 in /usr/local/lib/python3.7/dist-packages (from spacy) (1.1.3)\n",
            "Requirement already satisfied: requests<3.0.0,>=2.13.0 in /usr/local/lib/python3.7/dist-packages (from spacy) (2.23.0)\n",
            "Requirement already satisfied: srsly<1.1.0,>=1.0.2 in /usr/local/lib/python3.7/dist-packages (from spacy) (1.0.5)\n",
            "Requirement already satisfied: setuptools in /usr/local/lib/python3.7/dist-packages (from spacy) (57.4.0)\n",
            "Requirement already satisfied: preshed<3.1.0,>=3.0.2 in /usr/local/lib/python3.7/dist-packages (from spacy) (3.0.6)\n",
            "Requirement already satisfied: blis<0.5.0,>=0.4.0 in /usr/local/lib/python3.7/dist-packages (from spacy) (0.4.1)\n",
            "Requirement already satisfied: thinc==7.4.0 in /usr/local/lib/python3.7/dist-packages (from spacy) (7.4.0)\n",
            "Requirement already satisfied: wasabi<1.1.0,>=0.4.0 in /usr/local/lib/python3.7/dist-packages (from spacy) (0.9.0)\n",
            "Requirement already satisfied: importlib-metadata>=0.20 in /usr/local/lib/python3.7/dist-packages (from catalogue<1.1.0,>=0.0.7->spacy) (4.10.1)\n",
            "Requirement already satisfied: zipp>=0.5 in /usr/local/lib/python3.7/dist-packages (from importlib-metadata>=0.20->catalogue<1.1.0,>=0.0.7->spacy) (3.7.0)\n",
            "Requirement already satisfied: typing-extensions>=3.6.4 in /usr/local/lib/python3.7/dist-packages (from importlib-metadata>=0.20->catalogue<1.1.0,>=0.0.7->spacy) (3.10.0.2)\n",
            "Requirement already satisfied: certifi>=2017.4.17 in /usr/local/lib/python3.7/dist-packages (from requests<3.0.0,>=2.13.0->spacy) (2021.10.8)\n",
            "Requirement already satisfied: chardet<4,>=3.0.2 in /usr/local/lib/python3.7/dist-packages (from requests<3.0.0,>=2.13.0->spacy) (3.0.4)\n",
            "Requirement already satisfied: urllib3!=1.25.0,!=1.25.1,<1.26,>=1.21.1 in /usr/local/lib/python3.7/dist-packages (from requests<3.0.0,>=2.13.0->spacy) (1.24.3)\n",
            "Requirement already satisfied: idna<3,>=2.5 in /usr/local/lib/python3.7/dist-packages (from requests<3.0.0,>=2.13.0->spacy) (2.10)\n"
          ]
        }
      ]
    },
    {
      "cell_type": "code",
      "source": [
        "!python -m spacy download en_core_web_sm"
      ],
      "metadata": {
        "colab": {
          "base_uri": "https://localhost:8080/"
        },
        "id": "D_DjHvdYzL9D",
        "outputId": "89a91e2e-71ba-48b2-8d48-3188a210a975"
      },
      "execution_count": 8,
      "outputs": [
        {
          "output_type": "stream",
          "name": "stdout",
          "text": [
            "Collecting en_core_web_sm==2.2.5\n",
            "  Downloading https://github.com/explosion/spacy-models/releases/download/en_core_web_sm-2.2.5/en_core_web_sm-2.2.5.tar.gz (12.0 MB)\n",
            "\u001b[K     |████████████████████████████████| 12.0 MB 5.2 MB/s \n",
            "\u001b[?25hRequirement already satisfied: spacy>=2.2.2 in /usr/local/lib/python3.7/dist-packages (from en_core_web_sm==2.2.5) (2.2.4)\n",
            "Requirement already satisfied: wasabi<1.1.0,>=0.4.0 in /usr/local/lib/python3.7/dist-packages (from spacy>=2.2.2->en_core_web_sm==2.2.5) (0.9.0)\n",
            "Requirement already satisfied: setuptools in /usr/local/lib/python3.7/dist-packages (from spacy>=2.2.2->en_core_web_sm==2.2.5) (57.4.0)\n",
            "Requirement already satisfied: thinc==7.4.0 in /usr/local/lib/python3.7/dist-packages (from spacy>=2.2.2->en_core_web_sm==2.2.5) (7.4.0)\n",
            "Requirement already satisfied: srsly<1.1.0,>=1.0.2 in /usr/local/lib/python3.7/dist-packages (from spacy>=2.2.2->en_core_web_sm==2.2.5) (1.0.5)\n",
            "Requirement already satisfied: requests<3.0.0,>=2.13.0 in /usr/local/lib/python3.7/dist-packages (from spacy>=2.2.2->en_core_web_sm==2.2.5) (2.23.0)\n",
            "Requirement already satisfied: numpy>=1.15.0 in /usr/local/lib/python3.7/dist-packages (from spacy>=2.2.2->en_core_web_sm==2.2.5) (1.19.5)\n",
            "Requirement already satisfied: catalogue<1.1.0,>=0.0.7 in /usr/local/lib/python3.7/dist-packages (from spacy>=2.2.2->en_core_web_sm==2.2.5) (1.0.0)\n",
            "Requirement already satisfied: preshed<3.1.0,>=3.0.2 in /usr/local/lib/python3.7/dist-packages (from spacy>=2.2.2->en_core_web_sm==2.2.5) (3.0.6)\n",
            "Requirement already satisfied: blis<0.5.0,>=0.4.0 in /usr/local/lib/python3.7/dist-packages (from spacy>=2.2.2->en_core_web_sm==2.2.5) (0.4.1)\n",
            "Requirement already satisfied: tqdm<5.0.0,>=4.38.0 in /usr/local/lib/python3.7/dist-packages (from spacy>=2.2.2->en_core_web_sm==2.2.5) (4.62.3)\n",
            "Requirement already satisfied: plac<1.2.0,>=0.9.6 in /usr/local/lib/python3.7/dist-packages (from spacy>=2.2.2->en_core_web_sm==2.2.5) (1.1.3)\n",
            "Requirement already satisfied: murmurhash<1.1.0,>=0.28.0 in /usr/local/lib/python3.7/dist-packages (from spacy>=2.2.2->en_core_web_sm==2.2.5) (1.0.6)\n",
            "Requirement already satisfied: cymem<2.1.0,>=2.0.2 in /usr/local/lib/python3.7/dist-packages (from spacy>=2.2.2->en_core_web_sm==2.2.5) (2.0.6)\n",
            "Requirement already satisfied: importlib-metadata>=0.20 in /usr/local/lib/python3.7/dist-packages (from catalogue<1.1.0,>=0.0.7->spacy>=2.2.2->en_core_web_sm==2.2.5) (4.10.1)\n",
            "Requirement already satisfied: zipp>=0.5 in /usr/local/lib/python3.7/dist-packages (from importlib-metadata>=0.20->catalogue<1.1.0,>=0.0.7->spacy>=2.2.2->en_core_web_sm==2.2.5) (3.7.0)\n",
            "Requirement already satisfied: typing-extensions>=3.6.4 in /usr/local/lib/python3.7/dist-packages (from importlib-metadata>=0.20->catalogue<1.1.0,>=0.0.7->spacy>=2.2.2->en_core_web_sm==2.2.5) (3.10.0.2)\n",
            "Requirement already satisfied: certifi>=2017.4.17 in /usr/local/lib/python3.7/dist-packages (from requests<3.0.0,>=2.13.0->spacy>=2.2.2->en_core_web_sm==2.2.5) (2021.10.8)\n",
            "Requirement already satisfied: chardet<4,>=3.0.2 in /usr/local/lib/python3.7/dist-packages (from requests<3.0.0,>=2.13.0->spacy>=2.2.2->en_core_web_sm==2.2.5) (3.0.4)\n",
            "Requirement already satisfied: idna<3,>=2.5 in /usr/local/lib/python3.7/dist-packages (from requests<3.0.0,>=2.13.0->spacy>=2.2.2->en_core_web_sm==2.2.5) (2.10)\n",
            "Requirement already satisfied: urllib3!=1.25.0,!=1.25.1,<1.26,>=1.21.1 in /usr/local/lib/python3.7/dist-packages (from requests<3.0.0,>=2.13.0->spacy>=2.2.2->en_core_web_sm==2.2.5) (1.24.3)\n",
            "\u001b[38;5;2m✔ Download and installation successful\u001b[0m\n",
            "You can now load the model via spacy.load('en_core_web_sm')\n"
          ]
        }
      ]
    },
    {
      "cell_type": "code",
      "source": [
        "import spacy"
      ],
      "metadata": {
        "id": "6ppsTXnQ1QyQ"
      },
      "execution_count": 9,
      "outputs": []
    },
    {
      "cell_type": "code",
      "source": [
        "from spacy.lang.en.stop_words import STOP_WORDS"
      ],
      "metadata": {
        "id": "YSaHGYbp1VYW"
      },
      "execution_count": 10,
      "outputs": []
    },
    {
      "cell_type": "code",
      "source": [
        "from string import punctuation"
      ],
      "metadata": {
        "id": "0_-HH8Fa1xLq"
      },
      "execution_count": 11,
      "outputs": []
    },
    {
      "cell_type": "code",
      "source": [
        "stopwords = list(STOP_WORDS)"
      ],
      "metadata": {
        "id": "3DCTKCxw1_1_"
      },
      "execution_count": 12,
      "outputs": []
    },
    {
      "cell_type": "code",
      "source": [
        "Data = '''The University of Delhi was established in 1922 as a unitary, teaching and residential university by an Act of the then Central Legislative Assembly of the British India.[4] Hari Singh Gour served as the university's first Vice-Chancellor from 1922 to 1926. Only four colleges existed in Delhi at the time: St. Stephen's College founded in 1881, Hindu College founded in 1899, Zakir Husain Delhi College (then known as The Delhi College), founded in 1792 and Ramjas College founded in 1917, which were subsequently affiliated to the university. The university initially had two faculties (Arts and Science) and approximately 750 students.\n",
        "\n",
        "The seat of power in British India had been transferred from Calcutta to Delhi in 1911. The Viceregal Lodge Estate became the residence of the Viceroy of India until October 1933, when it was given to the University of Delhi. Since then, it has housed the office of the vice-chancellor and other offices.[5]\n",
        "\n",
        "When Sir Maurice Gwyer came to India in 1937 to serve as Chief Justice of British India, he became the Vice-Chancellor of the University of Delhi. During his time, postgraduate teaching courses were introduced and laboratories were established at the university.[6] Members of the faculty included Daulat Singh Kothari in Physics and Panchanan Maheshwari in Botany. Gwyer has been called the \"maker of university\". He served as Vice-Chancellor until 1950.[7]\n",
        "\n",
        "The silver jubilee year of the university in 1947 coincided with India's independence, and the national flag was hoisted in the main building for the first time by Vijayendra Kasturi Ranga Varadaraja Rao. In that year there was no convocation ceremony due to the partition of India. Instead a special ceremony was held in 1948, attended by then Prime Minister of India Jawaharlal Nehru, as well as by Lord Mountbatten, Lady Mountbatten, Abul Kalam Azad, Zakir Husain and Shanti Swaroop Bhatnagar. Twenty-five years later the golden jubilee celebrations of 1973 were attended by then Prime Minister of India Indira Gandhi, Satyajit Ray, Amrita Pritam and M. S. Subbulakshmi.[8]\n",
        "'''"
      ],
      "metadata": {
        "id": "ZsffNEoH2Rp6"
      },
      "execution_count": 13,
      "outputs": []
    },
    {
      "cell_type": "code",
      "source": [
        "Data"
      ],
      "metadata": {
        "colab": {
          "base_uri": "https://localhost:8080/",
          "height": 171
        },
        "id": "qj4TkLwB2es0",
        "outputId": "ed93d282-48a4-4966-be13-a77875243ef1"
      },
      "execution_count": 14,
      "outputs": [
        {
          "output_type": "execute_result",
          "data": {
            "application/vnd.google.colaboratory.intrinsic+json": {
              "type": "string"
            },
            "text/plain": [
              "'The University of Delhi was established in 1922 as a unitary, teaching and residential university by an Act of the then Central Legislative Assembly of the British India.[4] Hari Singh Gour served as the university\\'s first Vice-Chancellor from 1922 to 1926. Only four colleges existed in Delhi at the time: St. Stephen\\'s College founded in 1881, Hindu College founded in 1899, Zakir Husain Delhi College (then known as The Delhi College), founded in 1792 and Ramjas College founded in 1917, which were subsequently affiliated to the university. The university initially had two faculties (Arts and Science) and approximately 750 students.\\n\\nThe seat of power in British India had been transferred from Calcutta to Delhi in 1911. The Viceregal Lodge Estate became the residence of the Viceroy of India until October 1933, when it was given to the University of Delhi. Since then, it has housed the office of the vice-chancellor and other offices.[5]\\n\\nWhen Sir Maurice Gwyer came to India in 1937 to serve as Chief Justice of British India, he became the Vice-Chancellor of the University of Delhi. During his time, postgraduate teaching courses were introduced and laboratories were established at the university.[6] Members of the faculty included Daulat Singh Kothari in Physics and Panchanan Maheshwari in Botany. Gwyer has been called the \"maker of university\". He served as Vice-Chancellor until 1950.[7]\\n\\nThe silver jubilee year of the university in 1947 coincided with India\\'s independence, and the national flag was hoisted in the main building for the first time by Vijayendra Kasturi Ranga Varadaraja Rao. In that year there was no convocation ceremony due to the partition of India. Instead a special ceremony was held in 1948, attended by then Prime Minister of India Jawaharlal Nehru, as well as by Lord Mountbatten, Lady Mountbatten, Abul Kalam Azad, Zakir Husain and Shanti Swaroop Bhatnagar. Twenty-five years later the golden jubilee celebrations of 1973 were attended by then Prime Minister of India Indira Gandhi, Satyajit Ray, Amrita Pritam and M. S. Subbulakshmi.[8]\\n'"
            ]
          },
          "metadata": {},
          "execution_count": 14
        }
      ]
    },
    {
      "cell_type": "code",
      "source": [
        "#Load Spacy english pipeline for processing.\n",
        "nlp = spacy.load('en_core_web_sm')"
      ],
      "metadata": {
        "id": "lAAomUds2rty"
      },
      "execution_count": 15,
      "outputs": []
    },
    {
      "cell_type": "code",
      "source": [
        "#Apply on the text data, this allows us to take further actions like word tokenize, sent tokenize etc.\n",
        "doc = nlp(Data)"
      ],
      "metadata": {
        "id": "H1fK0rJA26pW"
      },
      "execution_count": 16,
      "outputs": []
    },
    {
      "cell_type": "code",
      "source": [
        "#create word frequency based on word tokens.\n",
        "word_frq ={}\n",
        "for word in doc:\n",
        "  #print(word)\n",
        "  if word.text.lower() not in stopwords:\n",
        "    if word.text not in word_frq.keys():\n",
        "      word_frq[word.text] =1\n",
        "    else:\n",
        "      word_frq[word.text] += 1\n"
      ],
      "metadata": {
        "id": "09_gegH32-wk"
      },
      "execution_count": 33,
      "outputs": []
    },
    {
      "cell_type": "code",
      "source": [
        "word_frq"
      ],
      "metadata": {
        "colab": {
          "base_uri": "https://localhost:8080/"
        },
        "id": "7VYRxvjA5Ykb",
        "outputId": "7c395733-77fc-4c24-fc73-c1cc70464df4"
      },
      "execution_count": 36,
      "outputs": [
        {
          "output_type": "execute_result",
          "data": {
            "text/plain": [
              "{'\\n': 1,\n",
              " '\\n\\n': 3,\n",
              " '\"': 2,\n",
              " '(': 2,\n",
              " ')': 2,\n",
              " ',': 17,\n",
              " '-': 5,\n",
              " '.': 11,\n",
              " '1792': 1,\n",
              " '1881': 1,\n",
              " '1899': 1,\n",
              " '1911': 1,\n",
              " '1917': 1,\n",
              " '1922': 2,\n",
              " '1926': 1,\n",
              " '1933': 1,\n",
              " '1937': 1,\n",
              " '1947': 1,\n",
              " '1948': 1,\n",
              " '1950.[7': 1,\n",
              " '1973': 1,\n",
              " '750': 1,\n",
              " ':': 1,\n",
              " 'Abul': 1,\n",
              " 'Act': 1,\n",
              " 'Amrita': 1,\n",
              " 'Arts': 1,\n",
              " 'Assembly': 1,\n",
              " 'Azad': 1,\n",
              " 'Bhatnagar': 1,\n",
              " 'Botany': 1,\n",
              " 'British': 3,\n",
              " 'Calcutta': 1,\n",
              " 'Central': 1,\n",
              " 'Chancellor': 3,\n",
              " 'Chief': 1,\n",
              " 'College': 5,\n",
              " 'Daulat': 1,\n",
              " 'Delhi': 7,\n",
              " 'Estate': 1,\n",
              " 'Gandhi': 1,\n",
              " 'Gour': 1,\n",
              " 'Gwyer': 2,\n",
              " 'Hari': 1,\n",
              " 'Hindu': 1,\n",
              " 'Husain': 2,\n",
              " 'India': 8,\n",
              " 'India.[4': 1,\n",
              " 'Indira': 1,\n",
              " 'Instead': 1,\n",
              " 'Jawaharlal': 1,\n",
              " 'Justice': 1,\n",
              " 'Kalam': 1,\n",
              " 'Kasturi': 1,\n",
              " 'Kothari': 1,\n",
              " 'Lady': 1,\n",
              " 'Legislative': 1,\n",
              " 'Lodge': 1,\n",
              " 'Lord': 1,\n",
              " 'M.': 1,\n",
              " 'Maheshwari': 1,\n",
              " 'Maurice': 1,\n",
              " 'Members': 1,\n",
              " 'Minister': 2,\n",
              " 'Mountbatten': 2,\n",
              " 'Nehru': 1,\n",
              " 'October': 1,\n",
              " 'Panchanan': 1,\n",
              " 'Physics': 1,\n",
              " 'Prime': 2,\n",
              " 'Pritam': 1,\n",
              " 'Ramjas': 1,\n",
              " 'Ranga': 1,\n",
              " 'Rao': 1,\n",
              " 'Ray': 1,\n",
              " 'S.': 1,\n",
              " 'Satyajit': 1,\n",
              " 'Science': 1,\n",
              " 'Shanti': 1,\n",
              " 'Singh': 2,\n",
              " 'Sir': 1,\n",
              " 'St.': 1,\n",
              " 'Stephen': 1,\n",
              " 'Subbulakshmi.[8': 1,\n",
              " 'Swaroop': 1,\n",
              " 'University': 3,\n",
              " 'Varadaraja': 1,\n",
              " 'Vice': 3,\n",
              " 'Viceregal': 1,\n",
              " 'Viceroy': 1,\n",
              " 'Vijayendra': 1,\n",
              " 'Zakir': 2,\n",
              " ']': 5,\n",
              " 'affiliated': 1,\n",
              " 'approximately': 1,\n",
              " 'attended': 2,\n",
              " 'building': 1,\n",
              " 'called': 1,\n",
              " 'came': 1,\n",
              " 'celebrations': 1,\n",
              " 'ceremony': 2,\n",
              " 'chancellor': 1,\n",
              " 'coincided': 1,\n",
              " 'colleges': 1,\n",
              " 'convocation': 1,\n",
              " 'courses': 1,\n",
              " 'established': 2,\n",
              " 'existed': 1,\n",
              " 'faculties': 1,\n",
              " 'faculty': 1,\n",
              " 'flag': 1,\n",
              " 'founded': 4,\n",
              " 'given': 1,\n",
              " 'golden': 1,\n",
              " 'held': 1,\n",
              " 'hoisted': 1,\n",
              " 'housed': 1,\n",
              " 'included': 1,\n",
              " 'independence': 1,\n",
              " 'initially': 1,\n",
              " 'introduced': 1,\n",
              " 'jubilee': 2,\n",
              " 'known': 1,\n",
              " 'laboratories': 1,\n",
              " 'later': 1,\n",
              " 'main': 1,\n",
              " 'maker': 1,\n",
              " 'national': 1,\n",
              " 'office': 1,\n",
              " 'offices.[5': 1,\n",
              " 'partition': 1,\n",
              " 'postgraduate': 1,\n",
              " 'power': 1,\n",
              " 'residence': 1,\n",
              " 'residential': 1,\n",
              " 'seat': 1,\n",
              " 'serve': 1,\n",
              " 'served': 2,\n",
              " 'silver': 1,\n",
              " 'special': 1,\n",
              " 'students': 1,\n",
              " 'subsequently': 1,\n",
              " 'teaching': 2,\n",
              " 'time': 3,\n",
              " 'transferred': 1,\n",
              " 'unitary': 1,\n",
              " 'university': 6,\n",
              " 'university.[6': 1,\n",
              " 'vice': 1,\n",
              " 'year': 2,\n",
              " 'years': 1}"
            ]
          },
          "metadata": {},
          "execution_count": 36
        }
      ]
    },
    {
      "cell_type": "code",
      "source": [
        "#find maximum occuring word and its frequency.\n",
        "max_freq = max(word_frq.values())"
      ],
      "metadata": {
        "id": "G5h8B3bV4OC4"
      },
      "execution_count": 37,
      "outputs": []
    },
    {
      "cell_type": "code",
      "source": [
        "max_freq"
      ],
      "metadata": {
        "colab": {
          "base_uri": "https://localhost:8080/"
        },
        "id": "msZ7xEyZ9BK8",
        "outputId": "aa5cecc0-93ac-4a43-834e-89966255fb56"
      },
      "execution_count": 38,
      "outputs": [
        {
          "output_type": "execute_result",
          "data": {
            "text/plain": [
              "17"
            ]
          },
          "metadata": {},
          "execution_count": 38
        }
      ]
    },
    {
      "cell_type": "code",
      "source": [
        "#calculate the weighted frequency of each word by dividing the max occuring freq\n",
        "for word in word_frq.keys():\n",
        "  word_frq[word] = (word_frq[word]/max_freq)"
      ],
      "metadata": {
        "id": "HJQmbyG69DNX"
      },
      "execution_count": 40,
      "outputs": []
    },
    {
      "cell_type": "code",
      "source": [
        "#create sentence tokens\n",
        "sentence_list = [sent for sent in doc.sents]"
      ],
      "metadata": {
        "id": "Iz0Jqlfx-GIx"
      },
      "execution_count": 43,
      "outputs": []
    },
    {
      "cell_type": "code",
      "source": [
        "sent_score ={}\n",
        "for sent in sentence_list:\n",
        "  for word in sent:\n",
        "    if word.text.lower() in word_frq.keys():\n",
        "      if len(sent.text.split(' ')) < 30:\n",
        "        if sent not in sent_score.keys():\n",
        "          sent_score[sent] = word_frq[word.text.lower()]\n",
        "        else:\n",
        "          sent_score[sent] += word_frq[word.text.lower()] \n"
      ],
      "metadata": {
        "id": "EbPShlhe-3Jn"
      },
      "execution_count": 46,
      "outputs": []
    },
    {
      "cell_type": "code",
      "source": [
        "sent_score"
      ],
      "metadata": {
        "colab": {
          "base_uri": "https://localhost:8080/"
        },
        "id": "1Uf6p3QFEhfP",
        "outputId": "0bc0e5aa-38aa-4754-ab45-d2ed2ab10955"
      },
      "execution_count": 47,
      "outputs": [
        {
          "output_type": "execute_result",
          "data": {
            "text/plain": [
              "{The University of Delhi was established in 1922 as a unitary, teaching and residential university by an Act of the then Central Legislative Assembly of the British India.[4]: 2.4705882352941173,\n",
              " Hari Singh Gour served as the university's first Vice-Chancellor from 1922 to 1926.: 1.7058823529411766,\n",
              " Only four colleges existed in Delhi at the time:: 0.35294117647058826,\n",
              " The university initially had two faculties (Arts and Science) and approximately 750 students.\n",
              " : 1.7058823529411766,\n",
              " The seat of power in British India had been transferred from Calcutta to Delhi in 1911.: 0.8823529411764706,\n",
              " The Viceregal Lodge Estate became the residence of the Viceroy of India until October 1933, when it was given to the University of Delhi.: 2.1764705882352944,\n",
              " Since then, it has housed the office of the vice-chancellor and other offices.[5]\n",
              " : 2.058823529411765,\n",
              " When Sir Maurice Gwyer came to India in 1937 to serve as Chief Justice of British India, he became the Vice-Chancellor of the University of Delhi.: 2.588235294117647,\n",
              " Gwyer has been called the \"maker of university\".: 1.3529411764705883,\n",
              " He served as Vice-Chancellor until 1950.[7]\n",
              " : 1.0588235294117647,\n",
              " In that year there was no convocation ceremony due to the partition of India.: 1.0,\n",
              " Twenty-five years later the golden jubilee celebrations of 1973 were attended by then Prime Minister of India Indira Gandhi, Satyajit Ray, Amrita Pritam and M. S. Subbulakshmi.[8]: 3.176470588235294}"
            ]
          },
          "metadata": {},
          "execution_count": 47
        }
      ]
    },
    {
      "cell_type": "code",
      "source": [
        "from heapq  import nlargest"
      ],
      "metadata": {
        "id": "hmxBoWKiFQup"
      },
      "execution_count": 48,
      "outputs": []
    },
    {
      "cell_type": "code",
      "source": [
        "sum_tokens = nlargest(7,sent_score,key=sent_score.get)"
      ],
      "metadata": {
        "id": "zaZqzRJVFbBv"
      },
      "execution_count": 49,
      "outputs": []
    },
    {
      "cell_type": "code",
      "source": [
        "sum_tokens"
      ],
      "metadata": {
        "colab": {
          "base_uri": "https://localhost:8080/"
        },
        "id": "mKu2FcHXFudz",
        "outputId": "1b572cf4-438f-47b7-a9a3-5c01682e6637"
      },
      "execution_count": 50,
      "outputs": [
        {
          "output_type": "execute_result",
          "data": {
            "text/plain": [
              "[Twenty-five years later the golden jubilee celebrations of 1973 were attended by then Prime Minister of India Indira Gandhi, Satyajit Ray, Amrita Pritam and M. S. Subbulakshmi.[8],\n",
              " When Sir Maurice Gwyer came to India in 1937 to serve as Chief Justice of British India, he became the Vice-Chancellor of the University of Delhi.,\n",
              " The University of Delhi was established in 1922 as a unitary, teaching and residential university by an Act of the then Central Legislative Assembly of the British India.[4],\n",
              " The Viceregal Lodge Estate became the residence of the Viceroy of India until October 1933, when it was given to the University of Delhi.,\n",
              " Since then, it has housed the office of the vice-chancellor and other offices.[5]\n",
              " ,\n",
              " Hari Singh Gour served as the university's first Vice-Chancellor from 1922 to 1926.,\n",
              " The university initially had two faculties (Arts and Science) and approximately 750 students.\n",
              " ]"
            ]
          },
          "metadata": {},
          "execution_count": 50
        }
      ]
    },
    {
      "cell_type": "code",
      "source": [
        "sum_string = [word.text for word in sum_tokens]"
      ],
      "metadata": {
        "id": "97UcYks6GB43"
      },
      "execution_count": 51,
      "outputs": []
    },
    {
      "cell_type": "code",
      "source": [
        "print(\" \".join(sum_string))"
      ],
      "metadata": {
        "colab": {
          "base_uri": "https://localhost:8080/"
        },
        "id": "CEura7yLGVop",
        "outputId": "dc759702-f675-40df-b9ca-fc1631b997dc"
      },
      "execution_count": 52,
      "outputs": [
        {
          "output_type": "stream",
          "name": "stdout",
          "text": [
            "Twenty-five years later the golden jubilee celebrations of 1973 were attended by then Prime Minister of India Indira Gandhi, Satyajit Ray, Amrita Pritam and M. S. Subbulakshmi.[8]\n",
            " When Sir Maurice Gwyer came to India in 1937 to serve as Chief Justice of British India, he became the Vice-Chancellor of the University of Delhi. The University of Delhi was established in 1922 as a unitary, teaching and residential university by an Act of the then Central Legislative Assembly of the British India.[4] The Viceregal Lodge Estate became the residence of the Viceroy of India until October 1933, when it was given to the University of Delhi. Since then, it has housed the office of the vice-chancellor and other offices.[5]\n",
            "\n",
            " Hari Singh Gour served as the university's first Vice-Chancellor from 1922 to 1926. The university initially had two faculties (Arts and Science) and approximately 750 students.\n",
            "\n",
            "\n"
          ]
        }
      ]
    }
  ],
  "metadata": {
    "accelerator": "TPU",
    "colab": {
      "collapsed_sections": [],
      "machine_shape": "hm",
      "name": "Summarization ",
      "provenance": [],
      "include_colab_link": true
    },
    "kernelspec": {
      "display_name": "Python 3",
      "name": "python3"
    }
  },
  "nbformat": 4,
  "nbformat_minor": 0
}