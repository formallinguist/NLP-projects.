{
  "nbformat": 4,
  "nbformat_minor": 0,
  "metadata": {
    "colab": {
      "provenance": []
    },
    "kernelspec": {
      "name": "python3",
      "display_name": "Python 3"
    },
    "language_info": {
      "name": "python"
    }
  },
  "cells": [
    {
      "cell_type": "code",
      "execution_count": 1,
      "metadata": {
        "id": "o_ImX6zlhwap"
      },
      "outputs": [],
      "source": [
        "import re"
      ]
    },
    {
      "cell_type": "code",
      "source": [
        "text = \"(hi|hello|hey)[ ]*([a-z]*)\""
      ],
      "metadata": {
        "id": "50KtxH6Nh4Lq"
      },
      "execution_count": 2,
      "outputs": []
    },
    {
      "cell_type": "code",
      "source": [
        "re.match(text, 'Hello Ravi', flags=re.IGNORECASE)"
      ],
      "metadata": {
        "colab": {
          "base_uri": "https://localhost:8080/"
        },
        "id": "6XY7T7a4iH5m",
        "outputId": "aef02e9b-f5ee-416a-954d-b869b2957e83"
      },
      "execution_count": 3,
      "outputs": [
        {
          "output_type": "execute_result",
          "data": {
            "text/plain": [
              "<re.Match object; span=(0, 10), match='Hello Ravi'>"
            ]
          },
          "metadata": {},
          "execution_count": 3
        }
      ]
    },
    {
      "cell_type": "code",
      "source": [
        "re.match(text, \"hi ho, hi ho, it's off to work ...\", flags=re.IGNORECASE)"
      ],
      "metadata": {
        "colab": {
          "base_uri": "https://localhost:8080/"
        },
        "id": "YDzyMTdHikaj",
        "outputId": "22f704fe-8e6d-42ad-a3b2-e9cff647acc2"
      },
      "execution_count": 4,
      "outputs": [
        {
          "output_type": "execute_result",
          "data": {
            "text/plain": [
              "<re.Match object; span=(0, 5), match='hi ho'>"
            ]
          },
          "metadata": {},
          "execution_count": 4
        }
      ]
    },
    {
      "cell_type": "code",
      "source": [
        "re.match(text, \"hey, what's up\", flags=re.IGNORECASE)"
      ],
      "metadata": {
        "colab": {
          "base_uri": "https://localhost:8080/"
        },
        "id": "DGmnzynsizhW",
        "outputId": "3a692a2e-8f20-4d77-c53e-48ce2cfa3a9d"
      },
      "execution_count": 5,
      "outputs": [
        {
          "output_type": "execute_result",
          "data": {
            "text/plain": [
              "<re.Match object; span=(0, 3), match='hey'>"
            ]
          },
          "metadata": {},
          "execution_count": 5
        }
      ]
    },
    {
      "cell_type": "code",
      "source": [
        "text = r\"[^a-z]*([y]o|[h']?ello|ok|hey|(good[ ])?(morn[gin']{0,3}|\" r\"afternoon|even[gin']{0,3}))[\\s,;:]{1,3}([a-z]{1,20})\""
      ],
      "metadata": {
        "id": "K9kuI4XXkaUY"
      },
      "execution_count": 6,
      "outputs": []
    },
    {
      "cell_type": "code",
      "source": [
        "re_greeting = re.compile(text, flags=re.IGNORECASE)"
      ],
      "metadata": {
        "id": "vuLQzLTBk2UQ"
      },
      "execution_count": 10,
      "outputs": []
    },
    {
      "cell_type": "code",
      "source": [
        "re_greeting.match('Hello Ravi')"
      ],
      "metadata": {
        "colab": {
          "base_uri": "https://localhost:8080/"
        },
        "id": "ZOWSrcSglVxx",
        "outputId": "8fd012e3-f33e-469f-ce68-1ce70acca10d"
      },
      "execution_count": 11,
      "outputs": [
        {
          "output_type": "execute_result",
          "data": {
            "text/plain": [
              "<re.Match object; span=(0, 10), match='Hello Ravi'>"
            ]
          },
          "metadata": {},
          "execution_count": 11
        }
      ]
    },
    {
      "cell_type": "code",
      "source": [
        "re_greeting.match('Hello Rohan').groups()"
      ],
      "metadata": {
        "colab": {
          "base_uri": "https://localhost:8080/"
        },
        "id": "a_P-rBgSmKvS",
        "outputId": "993bd227-3f4c-4fbd-e282-df2f532bce4f"
      },
      "execution_count": 13,
      "outputs": [
        {
          "output_type": "execute_result",
          "data": {
            "text/plain": [
              "('Hello', None, None, 'Rohan')"
            ]
          },
          "metadata": {},
          "execution_count": 13
        }
      ]
    },
    {
      "cell_type": "code",
      "source": [
        "re_greeting.match(\"Good morning Teja\")"
      ],
      "metadata": {
        "colab": {
          "base_uri": "https://localhost:8080/"
        },
        "id": "N5BrzfgvmVBy",
        "outputId": "8a8d0674-b55c-44a3-da03-cc8d0f8ba2c3"
      },
      "execution_count": 14,
      "outputs": [
        {
          "output_type": "execute_result",
          "data": {
            "text/plain": [
              "<re.Match object; span=(0, 17), match='Good morning Teja'>"
            ]
          },
          "metadata": {},
          "execution_count": 14
        }
      ]
    },
    {
      "cell_type": "code",
      "source": [
        "re_greeting.match(\"Good Manniing Naveena\")"
      ],
      "metadata": {
        "id": "MXquZi1XmnCy"
      },
      "execution_count": 15,
      "outputs": []
    },
    {
      "cell_type": "code",
      "source": [
        "re_greeting.match('Good evening Divya').groups() # it seperates the different parts into groups."
      ],
      "metadata": {
        "colab": {
          "base_uri": "https://localhost:8080/"
        },
        "id": "xYT-8s-emynH",
        "outputId": "2d082929-ef55-4786-fb85-eec232638475"
      },
      "execution_count": 20,
      "outputs": [
        {
          "output_type": "execute_result",
          "data": {
            "text/plain": [
              "('Good evening', 'Good ', 'evening', 'Divya')"
            ]
          },
          "metadata": {},
          "execution_count": 20
        }
      ]
    },
    {
      "cell_type": "code",
      "source": [
        "re_greeting.match(\"Good Morn'n Ravi\")"
      ],
      "metadata": {
        "colab": {
          "base_uri": "https://localhost:8080/"
        },
        "id": "RIQCMgbwm-5n",
        "outputId": "96386e29-98e3-42b2-83e0-efbe55325403"
      },
      "execution_count": 17,
      "outputs": [
        {
          "output_type": "execute_result",
          "data": {
            "text/plain": [
              "<re.Match object; span=(0, 16), match=\"Good Morn'n Ravi\">"
            ]
          },
          "metadata": {},
          "execution_count": 17
        }
      ]
    },
    {
      "cell_type": "code",
      "source": [
        "re_greeting.match(\"yo soy kiran\")"
      ],
      "metadata": {
        "colab": {
          "base_uri": "https://localhost:8080/"
        },
        "id": "DBGEXuNdnIC5",
        "outputId": "2e94c807-13b7-43e9-e49b-d168b9913b47"
      },
      "execution_count": 19,
      "outputs": [
        {
          "output_type": "execute_result",
          "data": {
            "text/plain": [
              "<re.Match object; span=(0, 6), match='yo soy'>"
            ]
          },
          "metadata": {},
          "execution_count": 19
        }
      ]
    },
    {
      "cell_type": "code",
      "source": [
        "#Chatbot response."
      ],
      "metadata": {
        "id": "dOtu4uO-n3PL"
      },
      "execution_count": null,
      "outputs": []
    },
    {
      "cell_type": "code",
      "source": [
        "names = set(['ravi', 'junnu', 'chintu', 'bablu', 'chikki','moni'])"
      ],
      "metadata": {
        "id": "8CUH3ON3n6lX"
      },
      "execution_count": 21,
      "outputs": []
    },
    {
      "cell_type": "code",
      "source": [
        "current_names = set(['hal', 'you', 'u'])"
      ],
      "metadata": {
        "id": "-zA8gbLpoWJG"
      },
      "execution_count": 24,
      "outputs": []
    },
    {
      "cell_type": "code",
      "source": [
        "greeter = 'junnu'"
      ],
      "metadata": {
        "id": "OUsKwKtWoa6_"
      },
      "execution_count": 55,
      "outputs": []
    },
    {
      "cell_type": "code",
      "source": [
        "match = re_greeting.match(input())"
      ],
      "metadata": {
        "colab": {
          "base_uri": "https://localhost:8080/"
        },
        "id": "WrhKd7nnop0L",
        "outputId": "88147fb6-7e04-4f0a-8245-37d99e6cfd08"
      },
      "execution_count": 56,
      "outputs": [
        {
          "name": "stdout",
          "output_type": "stream",
          "text": [
            "hello junnu\n"
          ]
        }
      ]
    },
    {
      "cell_type": "code",
      "source": [
        "if match:\n",
        "  at_name = match.groups()[-1]\n",
        "  if at_name in current_names:\n",
        "    print(\"Good one.\")\n",
        "  elif at_name.lower() in names:\n",
        "     print(\"Hi {}, How are you?\".format(greeter))"
      ],
      "metadata": {
        "colab": {
          "base_uri": "https://localhost:8080/"
        },
        "id": "S-seRlRxpW_o",
        "outputId": "c4265d30-d9d0-404b-fc2b-6f085117dbe4"
      },
      "execution_count": 57,
      "outputs": [
        {
          "output_type": "stream",
          "name": "stdout",
          "text": [
            "Hi junnu, How are you?\n"
          ]
        }
      ]
    }
  ]
}