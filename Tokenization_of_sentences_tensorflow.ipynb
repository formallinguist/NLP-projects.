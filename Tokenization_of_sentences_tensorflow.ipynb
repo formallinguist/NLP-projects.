{
  "nbformat": 4,
  "nbformat_minor": 0,
  "metadata": {
    "colab": {
      "provenance": []
    },
    "kernelspec": {
      "name": "python3",
      "display_name": "Python 3"
    },
    "language_info": {
      "name": "python"
    }
  },
  "cells": [
    {
      "cell_type": "code",
      "execution_count": 1,
      "metadata": {
        "id": "IEsWChmSU-G_"
      },
      "outputs": [],
      "source": [
        "import tensorflow as tf\n",
        "from tensorflow import keras\n",
        "from tensorflow.keras.preprocessing.text import Tokenizer"
      ]
    },
    {
      "cell_type": "code",
      "source": [
        "sentences = ['I ate an apple','I love apples','apples taste good', 'I would like to eat an apple during summer']"
      ],
      "metadata": {
        "id": "FoY43wbmVk1N"
      },
      "execution_count": 2,
      "outputs": []
    },
    {
      "cell_type": "code",
      "source": [
        "tokenizer = Tokenizer(num_words = 100)\n",
        "tokenizer.fit_on_texts(sentences)\n",
        "word_index = tokenizer.word_index\n",
        "print(word_index)"
      ],
      "metadata": {
        "colab": {
          "base_uri": "https://localhost:8080/"
        },
        "id": "zhfHP1yiVyXC",
        "outputId": "2891ab42-25c7-4d2a-8a57-b344e9d8a586"
      },
      "execution_count": 3,
      "outputs": [
        {
          "output_type": "stream",
          "name": "stdout",
          "text": [
            "{'i': 1, 'an': 2, 'apple': 3, 'apples': 4, 'ate': 5, 'love': 6, 'taste': 7, 'good': 8, 'would': 9, 'like': 10, 'to': 11, 'eat': 12, 'during': 13, 'summer': 14}\n"
          ]
        }
      ]
    },
    {
      "cell_type": "markdown",
      "source": [],
      "metadata": {
        "id": "tkxzQKhpauTn"
      }
    }
  ]
}